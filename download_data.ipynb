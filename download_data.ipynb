{
 "cells": [
  {
   "cell_type": "raw",
   "metadata": {
    "vscode": {
     "languageId": "raw"
    }
   },
   "source": [
    "# Kaggle 資料集下載腳本\n",
    "\n",
    "此腳本使用 KaggleHub 下載資料集，並將檔案複製到指定的專案目錄中。\n"
   ]
  },
  {
   "cell_type": "code",
   "execution_count": 1,
   "metadata": {},
   "outputs": [
    {
     "name": "stdout",
     "output_type": "stream",
     "text": [
      "Downloading from https://www.kaggle.com/api/v1/datasets/download/yasserh/titanic-dataset?dataset_version_number=1...\n"
     ]
    },
    {
     "name": "stderr",
     "output_type": "stream",
     "text": [
      "100%|██████████| 22.0k/22.0k [00:00<00:00, 1.65MB/s]"
     ]
    },
    {
     "name": "stdout",
     "output_type": "stream",
     "text": [
      "Extracting files...\n",
      "Path to dataset files: /home/os-sunnie.gd.weng/.cache/kagglehub/datasets/yasserh/titanic-dataset/versions/1\n"
     ]
    },
    {
     "name": "stderr",
     "output_type": "stream",
     "text": [
      "\n"
     ]
    }
   ],
   "source": [
    "import kagglehub\n",
    "import os\n",
    "import shutil\n",
    "from pathlib import Path\n",
    "\n",
    "def download_to_folder(dataset_id, target_folder, dataset_name=None):\n",
    "    \"\"\"\n",
    "    下載 Kaggle 資料集到指定資料夾\n",
    "    \n",
    "    Args:\n",
    "        dataset_id: Kaggle 資料集 ID (如 'yasserh/titanic-dataset')\n",
    "        target_folder: 目標資料夾路徑\n",
    "        dataset_name: 資料集名稱（用於顯示）\n",
    "    \"\"\"\n",
    "    try:\n",
    "        # 使用 KaggleHub 下載（會下載到緩存目錄）\n",
    "        print(f\"📥 正在下載 {dataset_name or dataset_id}...\")\n",
    "        cache_path = kagglehub.dataset_download(dataset_id)\n",
    "        print(f\"✅ 下載完成，緩存路徑: {cache_path}\")\n",
    "        \n",
    "        # 創建目標資料夾\n",
    "        target_path = Path(target_folder)\n",
    "        target_path.mkdir(parents=True, exist_ok=True)\n",
    "        \n",
    "        # 複製檔案到目標資料夾\n",
    "        print(f\"📁 複製檔案到: {target_folder}\")\n",
    "        \n",
    "        # 如果目標資料夾已存在且不為空，先清空\n",
    "        if target_path.exists() and any(target_path.iterdir()):\n",
    "            shutil.rmtree(target_path)\n",
    "            target_path.mkdir(parents=True, exist_ok=True)\n",
    "        \n",
    "        # 複製所有檔案\n",
    "        cache_path_obj = Path(cache_path)\n",
    "        if cache_path_obj.is_file():\n",
    "            # 如果是單個檔案\n",
    "            shutil.copy2(cache_path, target_path / cache_path_obj.name)\n",
    "        else:\n",
    "            # 如果是資料夾，複製所有內容\n",
    "            for item in cache_path_obj.iterdir():\n",
    "                if item.is_file():\n",
    "                    shutil.copy2(item, target_path / item.name)\n",
    "                elif item.is_dir():\n",
    "                    shutil.copytree(item, target_path / item.name)\n",
    "        \n",
    "        print(f\"✅ 複製完成！\")\n",
    "        \n",
    "        # 顯示下載的檔案\n",
    "        files = list(target_path.glob('*'))\n",
    "        print(f\"📄 資料夾中的檔案: {[f.name for f in files]}\")\n",
    "        \n",
    "        return str(target_path)\n",
    "        \n",
    "    except Exception as e:\n",
    "        print(f\"❌ 下載 {dataset_name or dataset_id} 失敗: {e}\")\n",
    "        return None\n",
    "\n",
    "# 設置基本目錄\n",
    "base_dir = \"datasets/raw\"\n",
    "os.makedirs(base_dir, exist_ok=True)\n",
    "\n",
    "print(\"🚀 開始下載 Kaggle 資料集到指定資料夾...\")\n",
    "print(\"=\" * 50)\n",
    "\n",
    "# 下載 Titanic 資料集\n",
    "titanic_path = download_to_folder(\n",
    "    dataset_id=\"yasserh/titanic-dataset\",\n",
    "    target_folder=f\"{base_dir}/titanic\",\n",
    "    dataset_name=\"Titanic Dataset\"\n",
    ")"
   ]
  },
  {
   "cell_type": "code",
   "execution_count": null,
   "metadata": {},
   "outputs": [],
   "source": [
    "# 下載其他資料集\n",
    "datasets = [\n",
    "    {\n",
    "        \"id\": \"mirichoi0218/insurance\",\n",
    "        \"name\": \"Medical Cost Personal Dataset\",\n",
    "        \"folder\": \"insurance\"\n",
    "    },\n",
    "    {\n",
    "        \"id\": \"uciml/breast-cancer-wisconsin-data\",\n",
    "        \"name\": \"Breast Cancer Wisconsin\",\n",
    "        \"folder\": \"breast_cancer\"\n",
    "    },\n",
    "    {\n",
    "        \"id\": \"lakshmi25npathi/imdb-dataset-of-50k-movie-reviews\",\n",
    "        \"name\": \"IMDB 50K Movie Reviews\",\n",
    "        \"folder\": \"imdb_reviews\"\n",
    "    }\n",
    "]\n",
    "\n",
    "successful_downloads = []\n",
    "failed_downloads = []\n",
    "\n",
    "for dataset in datasets:\n",
    "    print(f\"\\n{'='*60}\")\n",
    "    result = download_to_folder(\n",
    "        dataset_id=dataset[\"id\"],\n",
    "        target_folder=f\"{base_dir}/{dataset['folder']}\",\n",
    "        dataset_name=dataset[\"name\"]\n",
    "    )\n",
    "    \n",
    "    if result:\n",
    "        successful_downloads.append(dataset[\"name\"])\n",
    "    else:\n",
    "        failed_downloads.append(dataset[\"name\"])\n",
    "\n",
    "print(f\"\\n{'='*60}\")\n",
    "print(\"📊 下載結果總結:\")\n",
    "print(f\"✅ 成功下載 ({len(successful_downloads)} 個):\")\n",
    "for name in successful_downloads:\n",
    "    print(f\"   • {name}\")\n",
    "\n",
    "if failed_downloads:\n",
    "    print(f\"\\n❌ 下載失敗 ({len(failed_downloads)} 個):\")\n",
    "    for name in failed_downloads:\n",
    "        print(f\"   • {name}\")\n"
   ]
  },
  {
   "cell_type": "code",
   "execution_count": null,
   "metadata": {},
   "outputs": [],
   "source": [
    "# 檢查最終的資料夾結構\n",
    "print(\"\\n📁 最終資料夾結構:\")\n",
    "print(\"=\" * 40)\n",
    "\n",
    "import os\n",
    "for root, dirs, files in os.walk(base_dir):\n",
    "    level = root.replace(base_dir, '').count(os.sep)\n",
    "    indent = ' ' * 2 * level\n",
    "    print(f\"{indent}{os.path.basename(root)}/\")\n",
    "    subindent = ' ' * 2 * (level + 1)\n",
    "    for file in files:\n",
    "        print(f\"{subindent}{file}\")\n",
    "\n",
    "# 顯示每個資料集的詳細信息\n",
    "print(f\"\\n📊 各資料集詳細資訊:\")\n",
    "print(\"=\" * 40)\n",
    "\n",
    "for folder in os.listdir(base_dir):\n",
    "    folder_path = os.path.join(base_dir, folder)\n",
    "    if os.path.isdir(folder_path):\n",
    "        files = os.listdir(folder_path)\n",
    "        file_count = len(files)\n",
    "        total_size = sum(os.path.getsize(os.path.join(folder_path, f)) \n",
    "                        for f in files if os.path.isfile(os.path.join(folder_path, f)))\n",
    "        size_mb = total_size / (1024 * 1024)\n",
    "        \n",
    "        print(f\"\\n📂 {folder}:\")\n",
    "        print(f\"   • 檔案數量: {file_count}\")\n",
    "        print(f\"   • 總大小: {size_mb:.2f} MB\")\n",
    "        print(f\"   • 檔案列表: {', '.join(files)}\")\n",
    "\n",
    "print(f\"\\n🎉 資料集下載完成！所有檔案已存放在 '{base_dir}' 資料夾中。\")\n"
   ]
  }
 ],
 "metadata": {
  "kernelspec": {
   "display_name": "Python 3",
   "language": "python",
   "name": "python3"
  },
  "language_info": {
   "codemirror_mode": {
    "name": "ipython",
    "version": 3
   },
   "file_extension": ".py",
   "mimetype": "text/x-python",
   "name": "python",
   "nbconvert_exporter": "python",
   "pygments_lexer": "ipython3",
   "version": "3.10.17"
  }
 },
 "nbformat": 4,
 "nbformat_minor": 2
}
