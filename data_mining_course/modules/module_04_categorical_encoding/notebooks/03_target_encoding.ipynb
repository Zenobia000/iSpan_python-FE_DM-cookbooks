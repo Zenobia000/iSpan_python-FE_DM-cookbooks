{
 "cells": [
  {
   "cell_type": "markdown",
   "id": "10a4e011",
   "metadata": {},
   "source": [
    "# 模組 4.3: 目標編碼 (Target Encoding)\n",
    "\n",
    "## 學習目標\n",
    "- 理解目標編碼的基本原理及其強大的預測能力。\n",
    "- 認識到目標編碼中固有的資料洩漏風險。\n",
    "- 學習並實作一種穩健的、可以防止過擬合的目標編碼方法（使用交叉驗證）。\n",
    "- 了解平滑 (Smoothing) 技術在目標編碼中的作用。\n",
    "\n",
    "## 導論：利用目標變數的力量\n",
    "\n",
    "目標編碼：「*能捕捉類別與目標之間的關係...但有過度擬合和數據洩漏的風險，需要非常謹慎地實施*」。\n",
    "\n",
    "**目標編碼 (Target Encoding)**，也稱為均值編碼 (Mean Encoding)，是一種強大的監督式編碼方法。它直接利用目標變數的資訊來為類別特徵賦值。\n",
    "\n",
    "**基本原理**: 將每個類別替換為該類別所對應的 **目標變數的平均值**。\n",
    "\n",
    "這種方法能直接地、強力地捕捉到特徵與目標之間的關係，因此常常能在 Kaggle 等競賽中取得很好的效果。如果實施不當，它也是最容易導致 **數據洩漏** 和 **模型過度擬合** 的方法。"
   ]
  },
  {
   "cell_type": "code",
   "execution_count": 1,
   "id": "91909ebf",
   "metadata": {},
   "outputs": [],
   "source": [
    "# 導入必要的函式庫\n",
    "import pandas as pd\n",
    "from sklearn.model_selection import KFold\n",
    "\n"
   ]
  },
  {
   "cell_type": "markdown",
   "id": "7ee43e8b",
   "metadata": {},
   "source": [
    "## 1. 準備資料"
   ]
  },
  {
   "cell_type": "code",
   "execution_count": 2,
   "id": "2d8edc99",
   "metadata": {},
   "outputs": [
    {
     "name": "stdout",
     "output_type": "stream",
     "text": [
      "原始 DataFrame:\n"
     ]
    },
    {
     "data": {
      "text/html": [
       "<div>\n",
       "<style scoped>\n",
       "    .dataframe tbody tr th:only-of-type {\n",
       "        vertical-align: middle;\n",
       "    }\n",
       "\n",
       "    .dataframe tbody tr th {\n",
       "        vertical-align: top;\n",
       "    }\n",
       "\n",
       "    .dataframe thead th {\n",
       "        text-align: right;\n",
       "    }\n",
       "</style>\n",
       "<table border=\"1\" class=\"dataframe\">\n",
       "  <thead>\n",
       "    <tr style=\"text-align: right;\">\n",
       "      <th></th>\n",
       "      <th>City</th>\n",
       "      <th>Purchased</th>\n",
       "    </tr>\n",
       "  </thead>\n",
       "  <tbody>\n",
       "    <tr>\n",
       "      <th>0</th>\n",
       "      <td>New York</td>\n",
       "      <td>1</td>\n",
       "    </tr>\n",
       "    <tr>\n",
       "      <th>1</th>\n",
       "      <td>London</td>\n",
       "      <td>0</td>\n",
       "    </tr>\n",
       "    <tr>\n",
       "      <th>2</th>\n",
       "      <td>London</td>\n",
       "      <td>0</td>\n",
       "    </tr>\n",
       "    <tr>\n",
       "      <th>3</th>\n",
       "      <td>New York</td>\n",
       "      <td>1</td>\n",
       "    </tr>\n",
       "    <tr>\n",
       "      <th>4</th>\n",
       "      <td>Paris</td>\n",
       "      <td>1</td>\n",
       "    </tr>\n",
       "    <tr>\n",
       "      <th>5</th>\n",
       "      <td>Paris</td>\n",
       "      <td>0</td>\n",
       "    </tr>\n",
       "    <tr>\n",
       "      <th>6</th>\n",
       "      <td>New York</td>\n",
       "      <td>1</td>\n",
       "    </tr>\n",
       "    <tr>\n",
       "      <th>7</th>\n",
       "      <td>London</td>\n",
       "      <td>1</td>\n",
       "    </tr>\n",
       "  </tbody>\n",
       "</table>\n",
       "</div>"
      ],
      "text/plain": [
       "       City  Purchased\n",
       "0  New York          1\n",
       "1    London          0\n",
       "2    London          0\n",
       "3  New York          1\n",
       "4     Paris          1\n",
       "5     Paris          0\n",
       "6  New York          1\n",
       "7    London          1"
      ]
     },
     "metadata": {},
     "output_type": "display_data"
    }
   ],
   "source": [
    "# 我們使用一個簡單的資料集來清晰地展示原理\n",
    "df = pd.DataFrame({\n",
    "    'City': ['New York', 'London', 'London', 'New York', 'Paris', 'Paris', 'New York', 'London'],\n",
    "    'Purchased': [1, 0, 0, 1, 1, 0, 1, 1] # 我們的目標變數\n",
    "})\n",
    "\n",
    "print(\"原始 DataFrame:\")\n",
    "display(df)\n",
    "\n"
   ]
  },
  {
   "cell_type": "markdown",
   "id": "87b5e225",
   "metadata": {},
   "source": [
    "## 2. 天真 (Naive) 的目標編碼：一個錯誤的示範\n",
    "\n",
    "最直觀的方法是直接計算每個城市對應的 `Purchased` 均值，然後用它來編碼。讓我們看看這樣做為什麼是錯誤的。"
   ]
  },
  {
   "cell_type": "code",
   "execution_count": 3,
   "id": "0502f969",
   "metadata": {},
   "outputs": [
    {
     "name": "stdout",
     "output_type": "stream",
     "text": [
      "每個城市的平均購買率:\n",
      "City\n",
      "London      0.333333\n",
      "New York    1.000000\n",
      "Paris       0.500000\n",
      "Name: Purchased, dtype: float64\n"
     ]
    }
   ],
   "source": [
    "# 計算每個城市的購買率均值\n",
    "city_mean = df.groupby('City')['Purchased'].mean()\n",
    "print(\"每個城市的平均購買率:\")\n",
    "print(city_mean)\n",
    "\n"
   ]
  },
  {
   "cell_type": "code",
   "execution_count": 4,
   "id": "d95c6d47",
   "metadata": {},
   "outputs": [
    {
     "name": "stdout",
     "output_type": "stream",
     "text": [
      "\n",
      "天真的目標編碼結果:\n"
     ]
    },
    {
     "data": {
      "text/html": [
       "<div>\n",
       "<style scoped>\n",
       "    .dataframe tbody tr th:only-of-type {\n",
       "        vertical-align: middle;\n",
       "    }\n",
       "\n",
       "    .dataframe tbody tr th {\n",
       "        vertical-align: top;\n",
       "    }\n",
       "\n",
       "    .dataframe thead th {\n",
       "        text-align: right;\n",
       "    }\n",
       "</style>\n",
       "<table border=\"1\" class=\"dataframe\">\n",
       "  <thead>\n",
       "    <tr style=\"text-align: right;\">\n",
       "      <th></th>\n",
       "      <th>City</th>\n",
       "      <th>Purchased</th>\n",
       "      <th>Naive_Target_Encoded</th>\n",
       "    </tr>\n",
       "  </thead>\n",
       "  <tbody>\n",
       "    <tr>\n",
       "      <th>0</th>\n",
       "      <td>New York</td>\n",
       "      <td>1</td>\n",
       "      <td>1.000000</td>\n",
       "    </tr>\n",
       "    <tr>\n",
       "      <th>1</th>\n",
       "      <td>London</td>\n",
       "      <td>0</td>\n",
       "      <td>0.333333</td>\n",
       "    </tr>\n",
       "    <tr>\n",
       "      <th>2</th>\n",
       "      <td>London</td>\n",
       "      <td>0</td>\n",
       "      <td>0.333333</td>\n",
       "    </tr>\n",
       "    <tr>\n",
       "      <th>3</th>\n",
       "      <td>New York</td>\n",
       "      <td>1</td>\n",
       "      <td>1.000000</td>\n",
       "    </tr>\n",
       "    <tr>\n",
       "      <th>4</th>\n",
       "      <td>Paris</td>\n",
       "      <td>1</td>\n",
       "      <td>0.500000</td>\n",
       "    </tr>\n",
       "    <tr>\n",
       "      <th>5</th>\n",
       "      <td>Paris</td>\n",
       "      <td>0</td>\n",
       "      <td>0.500000</td>\n",
       "    </tr>\n",
       "    <tr>\n",
       "      <th>6</th>\n",
       "      <td>New York</td>\n",
       "      <td>1</td>\n",
       "      <td>1.000000</td>\n",
       "    </tr>\n",
       "    <tr>\n",
       "      <th>7</th>\n",
       "      <td>London</td>\n",
       "      <td>1</td>\n",
       "      <td>0.333333</td>\n",
       "    </tr>\n",
       "  </tbody>\n",
       "</table>\n",
       "</div>"
      ],
      "text/plain": [
       "       City  Purchased  Naive_Target_Encoded\n",
       "0  New York          1              1.000000\n",
       "1    London          0              0.333333\n",
       "2    London          0              0.333333\n",
       "3  New York          1              1.000000\n",
       "4     Paris          1              0.500000\n",
       "5     Paris          0              0.500000\n",
       "6  New York          1              1.000000\n",
       "7    London          1              0.333333"
      ]
     },
     "metadata": {},
     "output_type": "display_data"
    }
   ],
   "source": [
    "# 直接映射回原欄位\n",
    "df['Naive_Target_Encoded'] = df['City'].map(city_mean)\n",
    "\n",
    "print(\"\\n天真的目標編碼結果:\")\n",
    "display(df)\n",
    "\n"
   ]
  },
  {
   "cell_type": "markdown",
   "id": "c4d3e132",
   "metadata": {},
   "source": [
    "**問題在哪裡？—— 數據洩漏 (Data Leakage)**\n",
    "\n",
    "當我們計算第 0 行 \"New York\" 的編碼值 (1.0) 時，我們使用了第 0 行自身的目標值 (1)。這意味著我們把 **答案 (目標值) 的一部分洩漏給了特徵**。模型在訓練時看到這個特徵，會輕易地學到「如果編碼值是 1.0，那麼目標很可能就是 1」，這會導致模型在訓練集上表現得非常好，但在從未見過的測試集上表現很差，因為測試集的目標值是未知的。這就是 **過度擬合**。"
   ]
  },
  {
   "cell_type": "markdown",
   "id": "b6004ffb",
   "metadata": {},
   "source": [
    "## 3. 穩健的目標編碼：使用 K-Fold 交叉驗證\n",
    "\n",
    "為了防止上述的資料洩漏，我們必須確保在計算某一行 (sample) 的編碼值時，**不能使用該行自身的目標值**。一個穩健的方法是使用 K-Fold 交叉驗證策略。\n",
    "\n",
    "**流程**:\n",
    "1. 將訓練資料分成 K 折 (e.g., K=5)。\n",
    "2. 對於每一折（比如第 1 折），我們稱之為 \"驗證折\" (validation fold)。\n",
    "3. 使用 **除了這一折之外的所有其他折（K-1 折）** 的資料來計算目標均值。\n",
    "4. 用計算出的均值來填充 \"驗證折\" 的編碼值。\n",
    "5. 對所有 K 折重複此過程，這樣訓練集中的每一行都被賦予了一個在計算過程中沒有用到它自身目標值的編碼。\n",
    "6. 最後，計算 **整個訓練集** 的目標均值，用來填充 **測試集**。\n"
   ]
  },
  {
   "cell_type": "code",
   "execution_count": null,
   "id": "c5a928da",
   "metadata": {},
   "outputs": [],
   "source": [
    "# 重新開始，使用穩健的方法\n",
    "df_robust = df[['City', 'Purchased']].copy()\n",
    "df_robust['Robust_Target_Encoded'] = 0 # 初始化一個新欄位\n",
    "\n",
    "# 設置 K-Fold\n",
    "kf = KFold(n_splits=4, shuffle=True, random_state=42)\n",
    "\n",
    "# 對每一折進行處理\n",
    "for train_index, val_index in kf.split(df_robust):\n",
    "    # 分出訓練折和驗證折\n",
    "    train_fold = df_robust.iloc[train_index]\n",
    "    val_fold = df_robust.iloc[val_index]\n",
    "    \n",
    "    # *** 只在訓練折上計算均值 ***\n",
    "    means = train_fold.groupby('City')['Purchased'].mean()\n",
    "    \n",
    "    # *** 將均值應用到驗證折上 ***\n",
    "    df_robust.loc[val_index, 'Robust_Target_Encoded'] = val_fold['City'].map(means)\n",
    "\n",
    "# 處理在某些折中可能未出現的類別導致的 NaN\n",
    "# 用全域均值填充\n",
    "global_mean = df_robust['Purchased'].mean()\n",
    "df_robust['Robust_Target_Encoded'].fillna(global_mean, inplace=True)\n",
    "    \n",
    "print(\"穩健的目標編碼結果:\")\n",
    "display(df_robust)\n",
    "\n"
   ]
  },
  {
   "cell_type": "markdown",
   "id": "a7dcf64d",
   "metadata": {},
   "source": [
    "**觀察**:\n",
    "注意看，現在 `New York` 的編碼值不再是單一的 1.0，而是根據它所在的驗證折，由其他資料計算得來。例如，第 0 行的編碼值 (0.666) 是在不包含它自身的情況下計算的，從而避免了直接的資料洩漏。\n",
    "\n",
    "## 4. 平滑 (Smoothing)\n",
    "\n",
    "對於出現次數很少的類別，僅用幾筆樣本計算出的目標均值可能非常不穩定（例如，某個城市只出現一次且用戶購買了，均值就是 1.0）。\n",
    "\n",
    "**平滑** 是一種將 **局部均值** (該類別的均值) 與 **全域均值** (所有樣本的均值) 進行加權平均的技術，可以讓低頻類別的編碼值更可靠，更趨近於整體平均水平。\n",
    "\n",
    "**公式**: `平滑編碼 = w * 局部均值 + (1 - w) * 全域均值`\n",
    "\n",
    "其中 `w` 是一個權重，通常與該類別的樣本數量有關，樣本越多，`w` 越大，越相信局部均值。\n",
    "`w = n / (n + m)`，`n` 是類別樣本數，`m` 是一個平滑參數。"
   ]
  },
  {
   "cell_type": "markdown",
   "id": "91c3ab1c",
   "metadata": {},
   "source": [
    "## 總結\n",
    "\n",
    "目標編碼是一種威力強大但風險極高的工具。\n",
    "\n",
    "- **優點**:\n",
    "  - 直接捕捉特徵與目標的關係，預測能力強。\n",
    "  - 不增加特徵維度，適合處理高基數特徵。\n",
    "- **缺點/風險**:\n",
    "  - **極易過度擬合與資料洩漏**。\n",
    "  - 對於低頻類別，編碼值不穩定。\n",
    "- **核心要點**:\n",
    "  - **絕對不能使用 \"天真\" 的方法**。\n",
    "  - **必須使用基於交叉驗證的策略** 來防止資料洩漏。\n",
    "  - 對於低頻類別，考慮使用 **平滑** 技術來增加編碼的穩健性。\n",
    "\n",
    "由於其複雜性和風險，建議在對簡單編碼方法效果不滿意時，再謹慎地嘗試目標編碼。"
   ]
  }
 ],
 "metadata": {
  "kernelspec": {
   "display_name": "Python 3",
   "language": "python",
   "name": "python3"
  },
  "language_info": {
   "codemirror_mode": {
    "name": "ipython",
    "version": 3
   },
   "file_extension": ".py",
   "mimetype": "text/x-python",
   "name": "python",
   "nbconvert_exporter": "python",
   "pygments_lexer": "ipython3",
   "version": "3.11.9"
  }
 },
 "nbformat": 4,
 "nbformat_minor": 5
}
