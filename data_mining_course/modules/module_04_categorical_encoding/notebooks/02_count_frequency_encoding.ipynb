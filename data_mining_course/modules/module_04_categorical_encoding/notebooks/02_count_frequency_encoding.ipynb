{
 "cells": [
  {
   "cell_type": "markdown",
   "id": "a2f1f1de",
   "metadata": {},
   "source": [
    "# 模組 4.2: 計數與頻率編碼 (Count & Frequency Encoding)\n",
    "\n",
    "## 學習目標\n",
    "- 理解計數/頻率編碼的基本原理。\n",
    "- 學習如何實作這兩種編碼方法。\n",
    "- 探討它們的優點、缺點以及適用的場景。\n",
    "- 了解如何處理訓練集和測試集編碼不一致的問題。\n",
    "\n",
    "## 導論：超越標籤與獨熱\n",
    "\n",
    "標籤編碼和獨熱編碼處理的是類別的「身份」，但有時類別的「普遍性」或「稀有性」本身就是一種有用的資訊。例如，在一個用戶資料集中，「城市」這個特徵，來自大城市的用戶可能與來自小城鎮的用戶有著截然不同的行為模式。\n",
    "\n",
    "**計數編碼 (Count Encoding)** 和 **頻率編碼 (Frequency Encoding)** 就是用來捕捉這種普遍性資訊的技術。它們將類別替換為其在資料集中出現的次數或頻率。"
   ]
  },
  {
   "cell_type": "code",
   "execution_count": null,
   "id": "f309bf6e",
   "metadata": {},
   "outputs": [],
   "source": [
    "# 導入必要的函式庫\n",
    "import pandas as pd\n",
    "\n"
   ]
  },
  {
   "cell_type": "markdown",
   "id": "eaf31be0",
   "metadata": {},
   "source": [
    "## 1. 準備資料"
   ]
  },
  {
   "cell_type": "code",
   "execution_count": null,
   "id": "1d02cdd4",
   "metadata": {},
   "outputs": [],
   "source": [
    "# 我們使用一個稍微大一點的資料集來更好地展示效果\n",
    "df = pd.DataFrame({\n",
    "    'City': ['London', 'Paris', 'New York', 'London', 'Paris', 'Paris', 'Tokyo', 'London', 'New York'],\n",
    "    'Device': ['Mobile', 'Web', 'Mobile', 'Web', 'Mobile', 'Web', 'Mobile', 'Mobile', 'Web']\n",
    "})\n",
    "\n",
    "print(\"原始 DataFrame:\")\n",
    "display(df)\n",
    "\n",
    "\n"
   ]
  },
  {
   "cell_type": "markdown",
   "id": "e4ed4071",
   "metadata": {},
   "source": [
    "## 2. 計數編碼 (Count Encoding)\n",
    "\n",
    "**原理**: 將每個類別替換為它在訓練集中出現的總次數。"
   ]
  },
  {
   "cell_type": "code",
   "execution_count": null,
   "id": "f25b7a78",
   "metadata": {},
   "outputs": [],
   "source": [
    "# 1. 計算每個類別的頻次\n",
    "city_counts = df['City'].value_counts()\n",
    "print(\"各城市的計數:\")\n",
    "print(city_counts)\n",
    "\n"
   ]
  },
  {
   "cell_type": "code",
   "execution_count": null,
   "id": "4fd64cb3",
   "metadata": {},
   "outputs": [],
   "source": [
    "# 2. 使用 .map() 方法將計數映射回原始欄位\n",
    "df['City_CountEncoded'] = df['City'].map(city_counts)\n",
    "\n",
    "print(\"\\n計數編碼後的 DataFrame:\")\n",
    "display(df)\n",
    "\n"
   ]
  },
  {
   "cell_type": "markdown",
   "id": "df3e1003",
   "metadata": {},
   "source": [
    "**優點**:\n",
    "- 實現簡單。\n",
    "- 能有效地區分高頻和低頻類別。\n",
    "- 不會像獨熱編碼那樣產生大量新特徵。\n",
    "\n",
    "**缺點**:\n",
    "- **可能產生衝突**: 如果兩個不同的類別恰好出現了相同的次數，它們會被賦予相同的編碼值，模型將無法區分它們。\n",
    "- 對異常值敏感：如果某個類別出現頻率極高，可能會主導模型的學習。"
   ]
  },
  {
   "cell_type": "markdown",
   "id": "609eb754",
   "metadata": {},
   "source": [
    "## 3. 頻率編碼 (Frequency Encoding)\n",
    "\n",
    "**原理**: 與計數編碼非常相似，但替換的值是類別在訓練集中出現的頻率（比例）。\n",
    "\n",
    "**公式**: `頻率 = 該類別的計數 / 總樣本數`"
   ]
  },
  {
   "cell_type": "code",
   "execution_count": null,
   "id": "9de0f484",
   "metadata": {},
   "outputs": [],
   "source": [
    "# 1. 計算每個類別的頻率\n",
    "# normalize=True 會自動計算比例\n",
    "city_freq = df['City'].value_counts(normalize=True)\n",
    "print(\"各城市的頻率:\")\n",
    "print(city_freq)\n",
    "\n"
   ]
  },
  {
   "cell_type": "code",
   "execution_count": null,
   "id": "c8ffa0a6",
   "metadata": {},
   "outputs": [],
   "source": [
    "# 2. 使用 .map() 進行映射\n",
    "df['City_FreqEncoded'] = df['City'].map(city_freq)\n",
    "\n",
    "print(\"\\n頻率編碼後的 DataFrame:\")\n",
    "display(df)\n",
    "\n"
   ]
  },
  {
   "cell_type": "markdown",
   "id": "c46764de",
   "metadata": {},
   "source": [
    "**優點**:\n",
    "- 與計數編碼類似，但將數值範圍標準化到 0 和 1 之間，有時對某些模型更友好。\n",
    "\n",
    "**缺點**:\n",
    "- 同樣存在 **衝突** 的問題。\n",
    "\n",
    "## 4. 處理訓練集與測試集的注意事項\n",
    "\n",
    "這是使用計數/頻率編碼時 **最關鍵的陷阱**。\n",
    "\n",
    "- **原則**: 編碼所用的計數/頻率 **必須只從訓練集中學習**，然後應用到測試集上。\n",
    "- **問題**:\n",
    "  - 如果在整個資料集上學習，會導致 **資料洩漏**。\n",
    "  - 測試集中可能出現訓練集中從未見過的新類別。"
   ]
  },
  {
   "cell_type": "code",
   "execution_count": null,
   "id": "007db311",
   "metadata": {},
   "outputs": [],
   "source": [
    "# 模擬訓練集和測試集\n",
    "train_df = pd.DataFrame({'City': ['A', 'A', 'B', 'C', 'C', 'C']})\n",
    "test_df = pd.DataFrame({'City': ['A', 'B', 'B', 'D']}) # 'D' 是新類別\n",
    "\n",
    "# 1. 只從訓練集學習映射關係\n",
    "count_map = train_df['City'].value_counts()\n",
    "print(f\"從訓練集學到的計數映射:\\n{count_map}\\n\")\n",
    "\n",
    "# 2. 應用到訓練集和測試集\n",
    "train_df['City_Encoded'] = train_df['City'].map(count_map)\n",
    "test_df['City_Encoded'] = test_df['City'].map(count_map)\n",
    "\n",
    "# 3. 處理測試集中的新類別 (NaN)\n",
    "# 對於新類別，.map 會產生 NaN，我們需要用一個合理的值（如 1 或 0）來填充\n",
    "test_df['City_Encoded'].fillna(1, inplace=True) # 填充為 1，代表出現一次 (稀有)\n",
    "\n",
    "print(\"--- 處理後的訓練集 ---\")\n",
    "display(train_df)\n",
    "print(\"\\n--- 處理後的測試集 ---\")\n",
    "display(test_df)\n",
    "\n"
   ]
  },
  {
   "cell_type": "markdown",
   "id": "d1b2eb88",
   "metadata": {},
   "source": [
    "## 總結\n",
    "\n",
    "計數和頻率編碼是處理類別變數的快速有效的方法，特別是對於樹模型。它們能將類別的普遍性轉化為一個有用的數值特徵。\n",
    "\n",
    "- **優點**: 計算簡單，不增加維度，能捕捉類別分佈資訊。\n",
    "- **缺點**: 可能因計數/頻率相同而產生衝突。\n",
    "- **核心要點**: 必須嚴格區分訓練集和測試集，只從訓練集學習編碼映射，並準備好處理測試集中可能出現的新類別。"
   ]
  }
 ],
 "metadata": {},
 "nbformat": 4,
 "nbformat_minor": 5
}
