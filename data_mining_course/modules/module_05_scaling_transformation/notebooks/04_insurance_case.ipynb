{
 "cells": [
  {
   "cell_type": "markdown",
   "id": "874ebdc3",
   "metadata": {},
   "source": [
    "# 模組 5.4: 案例實戰 - Insurance 資料集\n",
    "\n",
    "## 學習目標\n",
    "- 在一個真實的資料集上，綜合應用本模組學習到的特徵縮放與變數轉換技術。\n",
    "- 根據特徵的分佈（偏態、常態）和是否存在異常值，為其選擇最恰當的預處理策略。\n",
    "- 實作一個包含多種縮放和轉換方法的完整預處理流程。\n",
    "- 比較不同預處理策略對特徵分佈的影響。\n",
    "\n",
    "## 導論：整合與應用\n",
    "\n",
    "我們已經分別學習了特徵縮放（StandardScaler, MinMaxScaler, RobustScaler）和變數轉換（Log, Box-Cox, Yeo-Johnson）。現在，我們將把這些技術應用到 `insurance` 資料集上，為其中的數值特徵制定一個完整的預處理方案。\n",
    "\n",
    "目標是將原始的數值特徵轉換為更適合機器學習模型（特別是線性模型）使用的形式。"
   ]
  },
  {
   "cell_type": "code",
   "execution_count": null,
   "id": "1ecfa19d",
   "metadata": {},
   "outputs": [],
   "source": [
    "# 導入必要的函式庫\n",
    "import pandas as pd\n",
    "import numpy as np\n",
    "import matplotlib.pyplot as plt\n",
    "import seaborn as sns\n",
    "from sklearn.preprocessing import StandardScaler, RobustScaler, PowerTransformer\n",
    "\n"
   ]
  },
  {
   "cell_type": "markdown",
   "id": "2afbe4e5",
   "metadata": {},
   "source": [
    "## 1. 載入資料與初步分析\n",
    "\n",
    "我們先載入資料，並對數值特徵的分佈進行一次快速的視覺化檢視。"
   ]
  },
  {
   "cell_type": "code",
   "execution_count": null,
   "id": "d2d35e42",
   "metadata": {},
   "outputs": [],
   "source": [
    "# 載入資料\n",
    "path = 'data_mining_course/datasets/raw/insurance/insurance.csv'\n",
    "try:\n",
    "    df = pd.read_csv(path)\n",
    "    # 我們只關心數值特徵\n",
    "    df_numeric = df.select_dtypes(include=np.number)\n",
    "    print(\"成功載入 Insurance 資料集!\")\n",
    "except FileNotFoundError:\n",
    "    print(f\"在 '{path}' 找不到 insurance.csv。\")\n",
    "    df_numeric = pd.DataFrame()\n",
    "\n",
    "# 繪製原始數值特徵的分佈\n",
    "fig, axes = plt.subplots(1, 4, figsize=(22, 5))\n",
    "for i, col in enumerate(df_numeric.columns):\n",
    "    sns.histplot(df_numeric[col], kde=True, ax=axes[i])\n",
    "    axes[i].set_title(f'原始分佈: {col}')\n",
    "plt.tight_layout()\n",
    "plt.show()\n",
    "\n"
   ]
  },
  {
   "cell_type": "markdown",
   "id": "6dbb76f2",
   "metadata": {},
   "source": [
    "**初步分析與策略制定**:\n",
    "\n",
    "1.  **`age`**: 分佈較為均勻，沒有明顯的偏態或極端異常值。可以使用 `StandardScaler`。\n",
    "2.  **`bmi`**: 看起來非常接近常態分佈（高斯分佈），是 `StandardScaler` 的理想應用對象。\n",
    "3.  **`children`**: 這是一個離散的計數變數，值不大。可以直接使用，或者如果模型需要也可以進行縮放。我們暫時保持原樣，或使用 `StandardScaler`。\n",
    "4.  **`charges`**: 明顯的 **高度右偏** 分佈。這是 **冪轉換 (Power Transformation)** 的絕佳候選。在轉換之後，再進行縮放。"
   ]
  },
  {
   "cell_type": "markdown",
   "id": "afb2bdbc",
   "metadata": {},
   "source": [
    "## 2. 實施預處理流程\n",
    "\n",
    "我們將建立一個新的 DataFrame `df_processed` 來存放處理後的結果。"
   ]
  },
  {
   "cell_type": "code",
   "execution_count": null,
   "id": "28f43245",
   "metadata": {},
   "outputs": [],
   "source": [
    "# 建立工作副本\n",
    "df_processed = df_numeric.copy()\n",
    "\n",
    "# --- 步驟 1: 處理 charges (冪轉換 + 縮放) ---\n",
    "\n",
    "# 1a. 應用對數轉換 (Log-Transform) 來處理偏態\n",
    "# 使用 log1p 以應對可能存在的 0 值\n",
    "df_processed['charges'] = np.log1p(df_processed['charges'])\n",
    "\n",
    "# 1b. 對轉換後的 charges 進行縮放\n",
    "# 由於轉換後分佈更對稱，StandardScaler 是個好選擇\n",
    "scaler_charges = StandardScaler()\n",
    "df_processed['charges'] = scaler_charges.fit_transform(df_processed[['charges']])\n",
    "\n",
    "\n",
    "# --- 步驟 2: 處理 age, bmi, children (縮放) ---\n",
    "\n",
    "# 2a. 對 age 和 bmi 使用 StandardScaler\n",
    "scaler_std = StandardScaler()\n",
    "cols_to_scale_std = ['age', 'bmi']\n",
    "df_processed[cols_to_scale_std] = scaler_std.fit_transform(df_processed[cols_to_scale_std])\n",
    "\n",
    "# 2b. 對 children，我們也可以用 StandardScaler\n",
    "# RobustScaler 也是一個選項，如果我們認為計數本身可能包含異常行為\n",
    "scaler_robust = RobustScaler()\n",
    "df_processed['children'] = scaler_robust.fit_transform(df_processed[['children']])\n",
    "\n",
    "\n",
    "print(\"所有數值特徵處理完成。\")\n",
    "\n",
    "\n"
   ]
  },
  {
   "cell_type": "markdown",
   "id": "d367ee8e",
   "metadata": {},
   "source": [
    "## 3. 視覺化比較處理前後的結果"
   ]
  },
  {
   "cell_type": "code",
   "execution_count": null,
   "id": "afe7a5d1",
   "metadata": {},
   "outputs": [],
   "source": [
    "fig, axes = plt.subplots(2, 4, figsize=(22, 10))\n",
    "fig.suptitle('特徵處理前後的分佈對比', fontsize=20)\n",
    "\n",
    "# 繪製原始分佈\n",
    "for i, col in enumerate(df_numeric.columns):\n",
    "    sns.histplot(df_numeric[col], kde=True, ax=axes[0, i])\n",
    "    axes[0, i].set_title(f'原始: {col}')\n",
    "\n",
    "# 繪製處理後的分佈\n",
    "for i, col in enumerate(df_processed.columns):\n",
    "    sns.histplot(df_processed[col], kde=True, ax=axes[1, i], color='green')\n",
    "    axes[1, i].set_title(f'處理後: {col}')\n",
    "\n",
    "plt.tight_layout(rect=[0, 0, 1, 0.96])\n",
    "plt.show()\n",
    "\n"
   ]
  },
  {
   "cell_type": "markdown",
   "id": "18c7a24c",
   "metadata": {},
   "source": [
    "**結果解讀**:\n",
    "\n",
    "- **charges (第4列)**: 對比最為明顯。原始的高度右偏分佈，在經過 **對數轉換 + 標準化** 之後，變成了一個漂亮的、以 0 為中心的類常態分佈。\n",
    "- **age, bmi (第1, 2列)**: 它們的 **形狀沒有改變**，但其 **尺度** (x軸) 已經被轉換為以 0 為中心，標準差為 1 的分佈。\n",
    "- **children (第3列)**: 經過 `RobustScaler` 縮放後，其尺度也發生了變化，但保留了其離散的特性。\n",
    "\n",
    "現在，所有特徵都在一個可比較的尺度上，並且最強的偏態特徵 `charges` 也被成功地「馴服」了。這個 `df_processed` DataFrame 遠比原始數據更適合直接用於訓練線性模型或基於距離的模型。"
   ]
  },
  {
   "cell_type": "markdown",
   "id": "7895e745",
   "metadata": {},
   "source": [
    "## 總結\n",
    "\n",
    "這個案例實戰展示了一個系統化的數值特徵預處理流程：\n",
    "\n",
    "1.  **檢視分佈**: 首先透過視覺化理解每個特徵的分佈形狀。\n",
    "2.  **制定策略**:\n",
    "    - 對於 **偏態嚴重** 的特徵，**先轉換，再縮放** (e.g., `Log Transform` -> `StandardScaler`)。\n",
    "    - 對於 **接近常態** 或沒有明顯偏態的特徵，直接進行 **縮放** (e.g., `StandardScaler`)。\n",
    "    - 對於可能含有異常值的特徵，考慮使用 `RobustScaler`。\n",
    "3.  **應用與驗證**: 實施策略，並再次視覺化以確認處理效果。\n",
    "\n",
    "這個流程將特徵縮放和變數轉換的知識結合起來，形成了一套強大的、可用於大多數場景的數值預處理方案。"
   ]
  }
 ],
 "metadata": {},
 "nbformat": 4,
 "nbformat_minor": 5
}
