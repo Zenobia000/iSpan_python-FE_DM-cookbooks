{
 "cells": [
  {
   "cell_type": "markdown",
   "id": "7c4d7b2b",
   "metadata": {},
   "source": [
    "# 模組 1.3: 系統化探索性資料分析 (EDA) 實戰\n",
    "\n",
    "## 學習目標\n",
    "- 整合 Pandas 和 Seaborn/Matplotlib 技能進行綜合分析\n",
    "- 學習遵循一個結構化的 EDA 工作流程\n",
    "- 練習從視覺化和統計中提出初步假設\n",
    "- 對真實資料集進行端到端的初步探索，並總結發現\n",
    "\n",
    "## 導論：執行系統化 EDA\n",
    "\n",
    "在您的指南《駕馭未知》中，系統化的工作流程被強調為成功的關鍵。本筆記本將嚴格遵循該指南中 **階段二（初步資料理解與結構化）** 和 **階段三（生成初步假設）** 的策略，將前兩個筆記本學到的技能應用於鐵達尼號資料集。\n",
    "\n",
    "我們將遵循以下步驟：\n",
    "1.  **定義問題**: 我們想了解哪些因素與乘客的生還有關？\n",
    "2.  **載入與檢視資料**: 進行基本品質掃描。\n",
    "3.  **單變數分析**: 探索每個特徵自身的分佈與特性。\n",
    "4.  **雙變數與多變數分析**: 探索特徵之間，特別是與目標變數 `Survived` 之間的關係。\n",
    "5.  **生成假設與總結**: 根據分析提出初步假設，並總結我們的發現。"
   ]
  },
  {
   "cell_type": "code",
   "execution_count": null,
   "id": "25edfe85",
   "metadata": {},
   "outputs": [],
   "source": [
    "# 導入必要的函式庫\n",
    "import pandas as pd\n",
    "import numpy as np\n",
    "import matplotlib.pyplot as plt\n",
    "import seaborn as sns\n",
    "\n",
    "# 設定視覺化風格\n",
    "plt.style.use('seaborn-v0_8-whitegrid')\n",
    "# plt.rcParams['font.sans-serif'] = ['Microsoft JhengHei'] \n",
    "# plt.rcParams['axes.unicode_minus'] = False\n",
    "print(\"Libraries and styles configured.\")\n",
    "\n",
    "# 忽略不必要的警告訊息\n",
    "import warnings\n",
    "warnings.filterwarnings('ignore')\n",
    "\n"
   ]
  },
  {
   "cell_type": "markdown",
   "id": "272e36dd",
   "metadata": {},
   "source": [
    "## 1. 定義問題與載入資料"
   ]
  },
  {
   "cell_type": "code",
   "execution_count": null,
   "id": "b32387f5",
   "metadata": {},
   "outputs": [],
   "source": [
    "# 我們分析的核心問題是：鐵達尼號乘客的生還狀況(`Survived`)與哪些特徵有關？\n",
    "# 這是一個典型的二元分類問題的探索階段。\n",
    "\n",
    "# 載入資料\n",
    "path = 'data_mining_course/datasets/raw/titanic/train.csv'\n",
    "df = pd.DataFrame()\n",
    "try:\n",
    "    df = pd.read_csv(path)\n",
    "    print(\"成功載入 Titanic 資料集!\")\n",
    "    print(f\"資料集維度: {df.shape}\")\n",
    "except FileNotFoundError:\n",
    "    print(f\"在 '{path}' 找不到 train.csv。\")\n",
    "\n"
   ]
  },
  {
   "cell_type": "markdown",
   "id": "6fd0a041",
   "metadata": {},
   "source": [
    "## 2. 初步資料品質掃描\n",
    "\n",
    "讓我們快速回顧一下資料的基本情況。"
   ]
  },
  {
   "cell_type": "code",
   "execution_count": null,
   "id": "be9b22de",
   "metadata": {},
   "outputs": [],
   "source": [
    "# 使用 .info() 檢查資料類型和缺失值\n",
    "df.info()\n",
    "\n"
   ]
  },
  {
   "cell_type": "markdown",
   "id": "ffb48172",
   "metadata": {},
   "source": [
    "**初步發現**:\n",
    "- **PassengerId, Survived, Pclass, SibSp, Parch** 是整數型。\n",
    "- **Name, Sex, Ticket, Cabin, Embarked** 是物件型（字串）。\n",
    "- **Age, Fare** 是浮點數型。\n",
    "- **缺失值**: `Age` (891-714=177個缺失), `Cabin` (891-204=687個缺失), `Embarked` (2個缺失)。`Cabin` 的缺失情況非常嚴重。"
   ]
  },
  {
   "cell_type": "markdown",
   "id": "ace18a97",
   "metadata": {},
   "source": [
    "## 3. 單變數分析 (Univariate Analysis)\n",
    "\n",
    "我們將逐一檢視主要特徵的分佈。\n",
    "\n",
    "### 目標變數: `Survived`"
   ]
  },
  {
   "cell_type": "code",
   "execution_count": null,
   "id": "88618d5e",
   "metadata": {},
   "outputs": [],
   "source": [
    "plt.figure(figsize=(6, 4))\n",
    "sns.countplot(x='Survived', data=df)\n",
    "plt.title('生還人數分佈 (0 = 死亡, 1 = 生還)')\n",
    "plt.xticks([0, 1], ['死亡', '生還'])\n",
    "plt.ylabel('人數')\n",
    "plt.show()\n",
    "\n",
    "print(df['Survived'].value_counts(normalize=True))\n",
    "\n"
   ]
  },
  {
   "cell_type": "markdown",
   "id": "ba6ff3cd",
   "metadata": {},
   "source": [
    "約 61.6% 的乘客不幸遇難，生還率約為 38.4%。\n",
    "\n",
    "### 其他主要特徵: `Pclass`, `Sex`, `Embarked`"
   ]
  },
  {
   "cell_type": "code",
   "execution_count": null,
   "id": "671bdba1",
   "metadata": {},
   "outputs": [],
   "source": [
    "fig, axes = plt.subplots(1, 3, figsize=(18, 5))\n",
    "\n",
    "sns.countplot(x='Pclass', data=df, ax=axes[0]).set_title('乘客艙等分佈')\n",
    "sns.countplot(x='Sex', data=df, ax=axes[1]).set_title('乘客性別分佈')\n",
    "sns.countplot(x='Embarked', data=df, ax=axes[2]).set_title('登船港口分佈')\n",
    "\n",
    "plt.tight_layout()\n",
    "plt.show()\n",
    "\n"
   ]
  },
  {
   "cell_type": "markdown",
   "id": "ecf73766",
   "metadata": {},
   "source": [
    "**發現**:\n",
    "- 乘客以三等艙居多。\n",
    "- 男性乘客數量遠多於女性。\n",
    "- 大部分乘客從 S 港口登船。\n",
    "\n",
    "### 數值特徵: `Age` 和 `Fare`"
   ]
  },
  {
   "cell_type": "code",
   "execution_count": null,
   "id": "c2225f99",
   "metadata": {},
   "outputs": [],
   "source": [
    "fig, axes = plt.subplots(1, 2, figsize=(15, 6))\n",
    "\n",
    "sns.histplot(df['Age'].dropna(), kde=True, ax=axes[0]).set_title('年齡分佈')\n",
    "sns.histplot(df[df['Fare'] < 200]['Fare'], kde=True, ax=axes[1]).set_title('票價分佈 (Fare < 200)') # 過濾掉極端異常值以利觀察\n",
    "\n",
    "plt.tight_layout()\n",
    "plt.show()\n",
    "\n"
   ]
  },
  {
   "cell_type": "markdown",
   "id": "4fde60dd",
   "metadata": {},
   "source": [
    "**發現**:\n",
    "- 年齡呈現多峰分佈，有一個嬰兒潮，主要乘客集中在青壯年。\n",
    "- 票價是高度右偏的，大部分乘客支付了較低的票價。\n",
    "\n",
    "## 4. 雙變數與多變數分析\n",
    "\n",
    "這是 EDA 的核心，我們將探索特徵與 `Survived` 之間的關係。\n",
    "\n",
    "### `Pclass` vs. `Survived`"
   ]
  },
  {
   "cell_type": "code",
   "execution_count": null,
   "id": "907c1c28",
   "metadata": {},
   "outputs": [],
   "source": [
    "# 使用 groupby 計算不同艙等的生還率\n",
    "pclass_survival = df.groupby('Pclass')['Survived'].mean()\n",
    "print(pclass_survival)\n",
    "\n",
    "plt.figure(figsize=(8, 5))\n",
    "sns.barplot(x=pclass_survival.index, y=pclass_survival.values)\n",
    "plt.title('各艙等生還率')\n",
    "plt.ylabel('生還率')\n",
    "plt.xlabel('乘客艙等 (Pclass)')\n",
    "plt.show()\n",
    "\n"
   ]
  },
  {
   "cell_type": "markdown",
   "id": "e353d355",
   "metadata": {},
   "source": [
    "**假設 1**: 乘客的社會經濟地位（由 Pclass 反映）是影響生還率的關鍵因素。艙等越高，生還率越高。\n",
    "\n",
    "### `Sex` vs. `Survived`"
   ]
  },
  {
   "cell_type": "code",
   "execution_count": null,
   "id": "3a8ab586",
   "metadata": {},
   "outputs": [],
   "source": [
    "sex_survival = df.groupby('Sex')['Survived'].mean()\n",
    "print(sex_survival)\n",
    "\n",
    "plt.figure(figsize=(6, 4))\n",
    "sns.barplot(x=sex_survival.index, y=sex_survival.values)\n",
    "plt.title('不同性別生還率')\n",
    "plt.ylabel('生還率')\n",
    "plt.xlabel('性別 (Sex)')\n",
    "plt.show()\n",
    "\n"
   ]
  },
  {
   "cell_type": "markdown",
   "id": "9f50359f",
   "metadata": {},
   "source": [
    "**假設 2**: 女性的生還率遠高於男性，這符合「婦女和兒童優先」的原則。\n",
    "\n",
    "### `Age` vs. `Survived`"
   ]
  },
  {
   "cell_type": "code",
   "execution_count": null,
   "id": "207cbff1",
   "metadata": {},
   "outputs": [],
   "source": [
    "plt.figure(figsize=(12, 6))\n",
    "sns.histplot(data=df, x='Age', hue='Survived', kde=True, multiple=\"stack\")\n",
    "plt.title('年齡與生還情況的關係')\n",
    "plt.legend(title='是否生還', labels=['生還', '死亡'])\n",
    "plt.show()\n",
    "\n"
   ]
  },
  {
   "cell_type": "markdown",
   "id": "6f0330e4",
   "metadata": {},
   "source": [
    "**假設 3**: 兒童（特別是 10 歲以下）的生還率較高。老年人的生還率較低。\n",
    "\n",
    "### 結合多變數\n",
    "\n",
    "讓我們看看 `Pclass` 和 `Sex` 對 `Survived` 的綜合影響。"
   ]
  },
  {
   "cell_type": "code",
   "execution_count": null,
   "id": "8fcfb4d0",
   "metadata": {},
   "outputs": [],
   "source": [
    "plt.figure(figsize=(10, 6))\n",
    "sns.pointplot(x='Pclass', y='Survived', hue='Sex', data=df)\n",
    "plt.title('不同艙等和性別的生還率')\n",
    "plt.ylabel('生還率')\n",
    "plt.xlabel('乘客艙等 (Pclass)')\n",
    "plt.show()\n",
    "\n"
   ]
  },
  {
   "cell_type": "markdown",
   "id": "b9a704f0",
   "metadata": {},
   "source": [
    "**強化發現**:\n",
    "- 在所有艙等中，女性的生還率都遠高於男性。\n",
    "- 即使是三等艙的女性，其生還率也高於一等艙的男性。這表明性別是一個比艙等等級更強的預測因子。\n",
    "\n",
    "### 數值特徵的相關性\n",
    "\n",
    "最後，我們用熱力圖來看看數值特徵之間的線性相關性。"
   ]
  },
  {
   "cell_type": "code",
   "execution_count": null,
   "id": "6cf5325a",
   "metadata": {},
   "outputs": [],
   "source": [
    "# 選取數值型欄位\n",
    "numeric_cols = df.select_dtypes(include=np.number).columns.tolist()\n",
    "\n",
    "plt.figure(figsize=(10, 8))\n",
    "sns.heatmap(df[numeric_cols].corr(), annot=True, cmap='coolwarm', fmt=\".2f\")\n",
    "plt.title('數值特徵相關性熱力圖')\n",
    "plt.show()\n",
    "\n"
   ]
  },
  {
   "cell_type": "markdown",
   "id": "0cc3f663",
   "metadata": {},
   "source": [
    "**發現**:\n",
    "- `Survived` 與 `Pclass` 呈負相關（-0.34），意味著艙等等級數字越小（艙等越高），生還率越高，這驗證了我們的發現。\n",
    "- `Survived` 與 `Fare` 呈正相關（0.26），票價越高，生還率越高，這與 Pclass 的結論一致。\n",
    "- `Pclass` 和 `Fare` 之間有很強的負相關（-0.55），符合預期。\n",
    "- `SibSp` (兄弟姊妹/配偶數) 和 `Parch` (父母/子女人數) 之間有中等程度的正相關。\n",
    "\n",
    "## 5. 初步總結與假設\n",
    "\n",
    "經過這輪系統化的 EDA，我們從一個未知的資料集中獲得了以下關鍵洞見，並生成了初步假設：\n",
    "\n",
    "- **最重要的生還預測因子**:\n",
    "  1.  **性別 (Sex)**: 女性的生還優先級遠高於男性。\n",
    "  2.  **社會階級 (Pclass)**: 艙等越高，生還的可能性越大。\n",
    "\n",
    "- **次要的生還預測因子**:\n",
    "  1.  **年齡 (Age)**: 兒童的生還率較高。\n",
    "  2.  **家庭大小 (SibSp, Parch)**: (此部分未深入，但相關圖可顯示出中等家庭大小的人存活率較高)\n",
    "  3.  **登船港口 (Embarked)**: (可能與社會階級有關，C 港口登船的乘客生還率較高)\n",
    "\n",
    "- **待處理問題**:\n",
    "  - **缺失值**: `Age`, `Cabin`, `Embarked` 需要在特徵工程階段被妥善處理。\n",
    "  - **特徵創建**: `Name` 中的稱謂（Mr., Mrs., Miss）可能包含年齡和社會地位信息。`SibSp` 和 `Parch` 可以合併為 `FamilySize`。\n",
    "\n",
    "這次 EDA 為我們接下來的資料清理和特徵工程指明了清晰的方向。"
   ]
  }
 ],
 "metadata": {},
 "nbformat": 4,
 "nbformat_minor": 5
}
