{
 "cells": [
  {
   "cell_type": "markdown",
   "id": "d5f131e1",
   "metadata": {},
   "source": [
    "# 模組 2.2: 重複值處理 (Handling Duplicates)\n",
    "\n",
    "## 學習目標\n",
    "- 了解重複資料對分析和模型訓練的潛在危害。\n",
    "- 學會使用 Pandas 的 `.duplicated()` 方法來識別重複的記錄。\n",
    "- 掌握使用 `.drop_duplicates()` 方法來移除重複值。\n",
    "- 理解 `keep` 參數如何影響保留哪一條記錄。\n",
    "\n",
    "## 導論：為何要處理重複值？\n",
    "\n",
    "重複的資料記錄是資料清理中常見的問題。它們可能源於資料收集過程的錯誤、系統 bug 或是資料合併不當。如果不加以處理，重複值會：\n",
    "- **扭曲統計分析結果**: 例如，重複的銷售記錄會誇大總銷售額。\n",
    "- **引入模型偏見**: 模型可能會過度學習這些重複的樣本，導致泛化能力下降。\n",
    "- **造成資料洩漏**: 如果重複的資料不慎同時出現在訓練集和測試集中，會導致模型評估結果過於樂觀。\n",
    "\n",
    "因此，識別並恰當地處理重複值是確保資料品質的重要一步。"
   ]
  },
  {
   "cell_type": "code",
   "execution_count": 19,
   "id": "071a4ecb",
   "metadata": {},
   "outputs": [],
   "source": [
    "# 導入必要的函式庫\n",
    "import pandas as pd\n",
    "import numpy as np\n"
   ]
  },
  {
   "cell_type": "markdown",
   "id": "1b3b54da",
   "metadata": {},
   "source": [
    "## 1. 創建一個帶有重複值的範例 DataFrame"
   ]
  },
  {
   "cell_type": "code",
   "execution_count": 20,
   "id": "84301a09",
   "metadata": {},
   "outputs": [
    {
     "data": {
      "text/html": [
       "<div>\n",
       "<style scoped>\n",
       "    .dataframe tbody tr th:only-of-type {\n",
       "        vertical-align: middle;\n",
       "    }\n",
       "\n",
       "    .dataframe tbody tr th {\n",
       "        vertical-align: top;\n",
       "    }\n",
       "\n",
       "    .dataframe thead th {\n",
       "        text-align: right;\n",
       "    }\n",
       "</style>\n",
       "<table border=\"1\" class=\"dataframe\">\n",
       "  <thead>\n",
       "    <tr style=\"text-align: right;\">\n",
       "      <th></th>\n",
       "      <th>actress</th>\n",
       "      <th>movie</th>\n",
       "      <th>rating</th>\n",
       "    </tr>\n",
       "  </thead>\n",
       "  <tbody>\n",
       "    <tr>\n",
       "      <th>0</th>\n",
       "      <td>Anne Hathaway</td>\n",
       "      <td>Les Misérables</td>\n",
       "      <td>8.5</td>\n",
       "    </tr>\n",
       "    <tr>\n",
       "      <th>1</th>\n",
       "      <td>Anne Hathaway</td>\n",
       "      <td>Les Misérables</td>\n",
       "      <td>8.5</td>\n",
       "    </tr>\n",
       "    <tr>\n",
       "      <th>2</th>\n",
       "      <td>Scarlett Johansson</td>\n",
       "      <td>Avengers</td>\n",
       "      <td>8.0</td>\n",
       "    </tr>\n",
       "    <tr>\n",
       "      <th>3</th>\n",
       "      <td>Scarlett Johansson</td>\n",
       "      <td>Avengers</td>\n",
       "      <td>8.0</td>\n",
       "    </tr>\n",
       "    <tr>\n",
       "      <th>4</th>\n",
       "      <td>Scarlett Johansson</td>\n",
       "      <td>Lucy</td>\n",
       "      <td>7.0</td>\n",
       "    </tr>\n",
       "    <tr>\n",
       "      <th>5</th>\n",
       "      <td>Anne Hathaway</td>\n",
       "      <td>Les Misérables</td>\n",
       "      <td>8.5</td>\n",
       "    </tr>\n",
       "  </tbody>\n",
       "</table>\n",
       "</div>"
      ],
      "text/plain": [
       "              actress           movie  rating\n",
       "0       Anne Hathaway  Les Misérables     8.5\n",
       "1       Anne Hathaway  Les Misérables     8.5\n",
       "2  Scarlett Johansson        Avengers     8.0\n",
       "3  Scarlett Johansson        Avengers     8.0\n",
       "4  Scarlett Johansson            Lucy     7.0\n",
       "5       Anne Hathaway  Les Misérables     8.5"
      ]
     },
     "metadata": {},
     "output_type": "display_data"
    }
   ],
   "source": [
    "import pandas as pd\n",
    "\n",
    "# 原始範例改為女優相關資料\n",
    "data = {\n",
    "    'actress': [\n",
    "        'Anne Hathaway', 'Anne Hathaway',\n",
    "        'Scarlett Johansson', 'Scarlett Johansson', 'Scarlett Johansson',\n",
    "        'Anne Hathaway'\n",
    "    ],\n",
    "    'movie': [\n",
    "        'Les Misérables', 'Les Misérables',\n",
    "        'Avengers',      'Avengers',      'Lucy',\n",
    "        'Les Misérables'\n",
    "    ],\n",
    "    'rating': [8.5, 8.5, 8.0, 8.0, 7.0, 8.5]\n",
    "}\n",
    "\n",
    "df = pd.DataFrame(data)\n",
    "display(df)\n"
   ]
  },
  {
   "cell_type": "markdown",
   "id": "f3465791",
   "metadata": {},
   "source": [
    "在這個範例中，第 0、1、5 行是完全一樣的，我們預期它們會被識別為重複項。第 3 和第 4 行雖然 `actress` 和 `movie` 相同，但 `rating` 不同，因此它們不是完全重複的記錄。"
   ]
  },
  {
   "cell_type": "markdown",
   "id": "1c63ddfa",
   "metadata": {},
   "source": [
    "## 2. 識別重複值 `.duplicated()`\n",
    "\n",
    "`.duplicated()` 方法會返回一個布林型的 Series，標示每一行是否為重複行。預設情況下，除了第一次出現的記錄外，其餘相同的記錄都會被標記為 `True`。"
   ]
  },
  {
   "cell_type": "code",
   "execution_count": 21,
   "id": "0d843979",
   "metadata": {},
   "outputs": [
    {
     "name": "stdout",
     "output_type": "stream",
     "text": [
      "重複值檢查 (布林遮罩):\n",
      "0    False\n",
      "1     True\n",
      "2    False\n",
      "3     True\n",
      "4    False\n",
      "5     True\n",
      "dtype: bool\n"
     ]
    }
   ],
   "source": [
    "# 檢查是否存在重複的行\n",
    "duplicates_mask = df.duplicated()\n",
    "print(\"重複值檢查 (布林遮罩):\")\n",
    "print(duplicates_mask)\n",
    "\n"
   ]
  },
  {
   "cell_type": "markdown",
   "id": "f6e49eaa",
   "metadata": {},
   "source": [
    "正如預期，第 1 行和第 5 行被標記為 `True`，因為它們是第 0 行的重複。\n",
    "\n",
    "我們可以用這個布林遮罩來篩選出所有重複的資料行。"
   ]
  },
  {
   "cell_type": "code",
   "execution_count": 22,
   "id": "e67d574f",
   "metadata": {},
   "outputs": [
    {
     "name": "stdout",
     "output_type": "stream",
     "text": [
      "\n",
      "顯示所有重複的資料行:\n"
     ]
    },
    {
     "data": {
      "text/html": [
       "<div>\n",
       "<style scoped>\n",
       "    .dataframe tbody tr th:only-of-type {\n",
       "        vertical-align: middle;\n",
       "    }\n",
       "\n",
       "    .dataframe tbody tr th {\n",
       "        vertical-align: top;\n",
       "    }\n",
       "\n",
       "    .dataframe thead th {\n",
       "        text-align: right;\n",
       "    }\n",
       "</style>\n",
       "<table border=\"1\" class=\"dataframe\">\n",
       "  <thead>\n",
       "    <tr style=\"text-align: right;\">\n",
       "      <th></th>\n",
       "      <th>actress</th>\n",
       "      <th>movie</th>\n",
       "      <th>rating</th>\n",
       "    </tr>\n",
       "  </thead>\n",
       "  <tbody>\n",
       "    <tr>\n",
       "      <th>1</th>\n",
       "      <td>Anne Hathaway</td>\n",
       "      <td>Les Misérables</td>\n",
       "      <td>8.5</td>\n",
       "    </tr>\n",
       "    <tr>\n",
       "      <th>3</th>\n",
       "      <td>Scarlett Johansson</td>\n",
       "      <td>Avengers</td>\n",
       "      <td>8.0</td>\n",
       "    </tr>\n",
       "    <tr>\n",
       "      <th>5</th>\n",
       "      <td>Anne Hathaway</td>\n",
       "      <td>Les Misérables</td>\n",
       "      <td>8.5</td>\n",
       "    </tr>\n",
       "  </tbody>\n",
       "</table>\n",
       "</div>"
      ],
      "text/plain": [
       "              actress           movie  rating\n",
       "1       Anne Hathaway  Les Misérables     8.5\n",
       "3  Scarlett Johansson        Avengers     8.0\n",
       "5       Anne Hathaway  Les Misérables     8.5"
      ]
     },
     "metadata": {},
     "output_type": "display_data"
    }
   ],
   "source": [
    "# 顯示所有被標記為重複的行\n",
    "print(\"\\n顯示所有重複的資料行:\")\n",
    "display(df[duplicates_mask])\n",
    "\n"
   ]
  },
  {
   "cell_type": "markdown",
   "id": "2c068468",
   "metadata": {},
   "source": [
    "## 3. 移除重複值 `.drop_duplicates()`\n",
    "\n",
    "`.drop_duplicates()` 是最直接的處理方法，它會返回一個移除了重複記錄的新 DataFrame。\n",
    "\n",
    "### 3.1 預設行為 (keep='first')\n",
    "\n",
    "預設情況下，`keep='first'` 參數會保留第一次出現的記錄，並刪除後續的重複項。"
   ]
  },
  {
   "cell_type": "code",
   "execution_count": 23,
   "id": "8984ba41",
   "metadata": {},
   "outputs": [
    {
     "name": "stdout",
     "output_type": "stream",
     "text": [
      "移除重複項後的 DataFrame (保留第一個):\n"
     ]
    },
    {
     "data": {
      "text/html": [
       "<div>\n",
       "<style scoped>\n",
       "    .dataframe tbody tr th:only-of-type {\n",
       "        vertical-align: middle;\n",
       "    }\n",
       "\n",
       "    .dataframe tbody tr th {\n",
       "        vertical-align: top;\n",
       "    }\n",
       "\n",
       "    .dataframe thead th {\n",
       "        text-align: right;\n",
       "    }\n",
       "</style>\n",
       "<table border=\"1\" class=\"dataframe\">\n",
       "  <thead>\n",
       "    <tr style=\"text-align: right;\">\n",
       "      <th></th>\n",
       "      <th>actress</th>\n",
       "      <th>movie</th>\n",
       "      <th>rating</th>\n",
       "    </tr>\n",
       "  </thead>\n",
       "  <tbody>\n",
       "    <tr>\n",
       "      <th>0</th>\n",
       "      <td>Anne Hathaway</td>\n",
       "      <td>Les Misérables</td>\n",
       "      <td>8.5</td>\n",
       "    </tr>\n",
       "    <tr>\n",
       "      <th>2</th>\n",
       "      <td>Scarlett Johansson</td>\n",
       "      <td>Avengers</td>\n",
       "      <td>8.0</td>\n",
       "    </tr>\n",
       "    <tr>\n",
       "      <th>4</th>\n",
       "      <td>Scarlett Johansson</td>\n",
       "      <td>Lucy</td>\n",
       "      <td>7.0</td>\n",
       "    </tr>\n",
       "  </tbody>\n",
       "</table>\n",
       "</div>"
      ],
      "text/plain": [
       "              actress           movie  rating\n",
       "0       Anne Hathaway  Les Misérables     8.5\n",
       "2  Scarlett Johansson        Avengers     8.0\n",
       "4  Scarlett Johansson            Lucy     7.0"
      ]
     },
     "metadata": {},
     "output_type": "display_data"
    }
   ],
   "source": [
    "df_no_duplicates = df.drop_duplicates()\n",
    "print(\"移除重複項後的 DataFrame (保留第一個):\")\n",
    "display(df_no_duplicates)\n",
    "\n"
   ]
  },
  {
   "cell_type": "markdown",
   "id": "48d2dd5f",
   "metadata": {},
   "source": [
    "### 3.2 控制保留哪一筆記錄 (`keep` 參數)\n",
    "\n",
    "- `keep='first'` (預設): 保留第一個出現的。\n",
    "- `keep='last'`: 保留最後一個出現的。\n",
    "- `keep=False`: 刪除所有重複的記錄，一筆都不留。"
   ]
  },
  {
   "cell_type": "code",
   "execution_count": 24,
   "id": "3a86bb0e",
   "metadata": {},
   "outputs": [
    {
     "name": "stdout",
     "output_type": "stream",
     "text": [
      "移除重複項後的 DataFrame (保留最後一個):\n"
     ]
    },
    {
     "data": {
      "text/html": [
       "<div>\n",
       "<style scoped>\n",
       "    .dataframe tbody tr th:only-of-type {\n",
       "        vertical-align: middle;\n",
       "    }\n",
       "\n",
       "    .dataframe tbody tr th {\n",
       "        vertical-align: top;\n",
       "    }\n",
       "\n",
       "    .dataframe thead th {\n",
       "        text-align: right;\n",
       "    }\n",
       "</style>\n",
       "<table border=\"1\" class=\"dataframe\">\n",
       "  <thead>\n",
       "    <tr style=\"text-align: right;\">\n",
       "      <th></th>\n",
       "      <th>actress</th>\n",
       "      <th>movie</th>\n",
       "      <th>rating</th>\n",
       "    </tr>\n",
       "  </thead>\n",
       "  <tbody>\n",
       "    <tr>\n",
       "      <th>3</th>\n",
       "      <td>Scarlett Johansson</td>\n",
       "      <td>Avengers</td>\n",
       "      <td>8.0</td>\n",
       "    </tr>\n",
       "    <tr>\n",
       "      <th>4</th>\n",
       "      <td>Scarlett Johansson</td>\n",
       "      <td>Lucy</td>\n",
       "      <td>7.0</td>\n",
       "    </tr>\n",
       "    <tr>\n",
       "      <th>5</th>\n",
       "      <td>Anne Hathaway</td>\n",
       "      <td>Les Misérables</td>\n",
       "      <td>8.5</td>\n",
       "    </tr>\n",
       "  </tbody>\n",
       "</table>\n",
       "</div>"
      ],
      "text/plain": [
       "              actress           movie  rating\n",
       "3  Scarlett Johansson        Avengers     8.0\n",
       "4  Scarlett Johansson            Lucy     7.0\n",
       "5       Anne Hathaway  Les Misérables     8.5"
      ]
     },
     "metadata": {},
     "output_type": "display_data"
    }
   ],
   "source": [
    "# 使用 keep='last'\n",
    "df_keep_last = df.drop_duplicates(keep='last')\n",
    "print(\"移除重複項後的 DataFrame (保留最後一個):\")\n",
    "display(df_keep_last)\n",
    "\n"
   ]
  },
  {
   "cell_type": "code",
   "execution_count": 25,
   "id": "4fd9a297",
   "metadata": {},
   "outputs": [
    {
     "name": "stdout",
     "output_type": "stream",
     "text": [
      "\n",
      "移除所有重複記錄後的 DataFrame (一筆不留):\n"
     ]
    },
    {
     "data": {
      "text/html": [
       "<div>\n",
       "<style scoped>\n",
       "    .dataframe tbody tr th:only-of-type {\n",
       "        vertical-align: middle;\n",
       "    }\n",
       "\n",
       "    .dataframe tbody tr th {\n",
       "        vertical-align: top;\n",
       "    }\n",
       "\n",
       "    .dataframe thead th {\n",
       "        text-align: right;\n",
       "    }\n",
       "</style>\n",
       "<table border=\"1\" class=\"dataframe\">\n",
       "  <thead>\n",
       "    <tr style=\"text-align: right;\">\n",
       "      <th></th>\n",
       "      <th>actress</th>\n",
       "      <th>movie</th>\n",
       "      <th>rating</th>\n",
       "    </tr>\n",
       "  </thead>\n",
       "  <tbody>\n",
       "    <tr>\n",
       "      <th>4</th>\n",
       "      <td>Scarlett Johansson</td>\n",
       "      <td>Lucy</td>\n",
       "      <td>7.0</td>\n",
       "    </tr>\n",
       "  </tbody>\n",
       "</table>\n",
       "</div>"
      ],
      "text/plain": [
       "              actress movie  rating\n",
       "4  Scarlett Johansson  Lucy     7.0"
      ]
     },
     "metadata": {},
     "output_type": "display_data"
    }
   ],
   "source": [
    "# 使用 keep=False\n",
    "df_keep_none = df.drop_duplicates(keep=False)\n",
    "print(\"\\n移除所有重複記錄後的 DataFrame (一筆不留):\")\n",
    "display(df_keep_none)\n"
   ]
  },
  {
   "cell_type": "markdown",
   "id": "1b260e45",
   "metadata": {},
   "source": [
    "## 4. 基於特定欄位判斷重複\n",
    "\n",
    "有時候，我們認為的「重複」並非指所有欄位都相同，而是某個或某幾個關鍵欄位相同。例如，我們可能認為同一個 `actress` 和 `movie` 的組合只應該出現一次。\n",
    "\n",
    "我們可以使用 `subset` 參數來指定用於判斷重複的欄位子集。"
   ]
  },
  {
   "cell_type": "code",
   "execution_count": 26,
   "id": "40f70978",
   "metadata": {},
   "outputs": [
    {
     "name": "stdout",
     "output_type": "stream",
     "text": [
      "基於特定欄位判斷重複的範例 DataFrame:\n"
     ]
    },
    {
     "data": {
      "text/html": [
       "<div>\n",
       "<style scoped>\n",
       "    .dataframe tbody tr th:only-of-type {\n",
       "        vertical-align: middle;\n",
       "    }\n",
       "\n",
       "    .dataframe tbody tr th {\n",
       "        vertical-align: top;\n",
       "    }\n",
       "\n",
       "    .dataframe thead th {\n",
       "        text-align: right;\n",
       "    }\n",
       "</style>\n",
       "<table border=\"1\" class=\"dataframe\">\n",
       "  <thead>\n",
       "    <tr style=\"text-align: right;\">\n",
       "      <th></th>\n",
       "      <th>ID</th>\n",
       "      <th>Name</th>\n",
       "      <th>Timestamp</th>\n",
       "    </tr>\n",
       "  </thead>\n",
       "  <tbody>\n",
       "    <tr>\n",
       "      <th>0</th>\n",
       "      <td>1</td>\n",
       "      <td>Alice</td>\n",
       "      <td>2023-01-01</td>\n",
       "    </tr>\n",
       "    <tr>\n",
       "      <th>1</th>\n",
       "      <td>2</td>\n",
       "      <td>Bob</td>\n",
       "      <td>2023-01-01</td>\n",
       "    </tr>\n",
       "    <tr>\n",
       "      <th>2</th>\n",
       "      <td>3</td>\n",
       "      <td>Alice</td>\n",
       "      <td>2023-01-02</td>\n",
       "    </tr>\n",
       "    <tr>\n",
       "      <th>3</th>\n",
       "      <td>4</td>\n",
       "      <td>Charlie</td>\n",
       "      <td>2023-01-03</td>\n",
       "    </tr>\n",
       "    <tr>\n",
       "      <th>4</th>\n",
       "      <td>5</td>\n",
       "      <td>Bob</td>\n",
       "      <td>2023-01-01</td>\n",
       "    </tr>\n",
       "  </tbody>\n",
       "</table>\n",
       "</div>"
      ],
      "text/plain": [
       "   ID     Name   Timestamp\n",
       "0   1    Alice  2023-01-01\n",
       "1   2      Bob  2023-01-01\n",
       "2   3    Alice  2023-01-02\n",
       "3   4  Charlie  2023-01-03\n",
       "4   5      Bob  2023-01-01"
      ]
     },
     "metadata": {},
     "output_type": "display_data"
    }
   ],
   "source": [
    "# 創建一個新的範例\n",
    "data_subset = {\n",
    "    'ID': [1, 2, 3, 4, 5],\n",
    "    'Name': ['Alice', 'Bob', 'Alice', 'Charlie', 'Bob'],\n",
    "    'Timestamp': ['2023-01-01', '2023-01-01', '2023-01-02', '2023-01-03', '2023-01-01']\n",
    "}\n",
    "df_subset = pd.DataFrame(data_subset)\n",
    "print(\"基於特定欄位判斷重複的範例 DataFrame:\")\n",
    "display(df_subset)\n",
    "\n"
   ]
  },
  {
   "cell_type": "code",
   "execution_count": 27,
   "id": "69098e1f",
   "metadata": {},
   "outputs": [
    {
     "name": "stdout",
     "output_type": "stream",
     "text": [
      "\n",
      "移除基於 'Name' 重複後的 DataFrame (保留最後出現的):\n"
     ]
    },
    {
     "data": {
      "text/html": [
       "<div>\n",
       "<style scoped>\n",
       "    .dataframe tbody tr th:only-of-type {\n",
       "        vertical-align: middle;\n",
       "    }\n",
       "\n",
       "    .dataframe tbody tr th {\n",
       "        vertical-align: top;\n",
       "    }\n",
       "\n",
       "    .dataframe thead th {\n",
       "        text-align: right;\n",
       "    }\n",
       "</style>\n",
       "<table border=\"1\" class=\"dataframe\">\n",
       "  <thead>\n",
       "    <tr style=\"text-align: right;\">\n",
       "      <th></th>\n",
       "      <th>ID</th>\n",
       "      <th>Name</th>\n",
       "      <th>Timestamp</th>\n",
       "    </tr>\n",
       "  </thead>\n",
       "  <tbody>\n",
       "    <tr>\n",
       "      <th>2</th>\n",
       "      <td>3</td>\n",
       "      <td>Alice</td>\n",
       "      <td>2023-01-02</td>\n",
       "    </tr>\n",
       "    <tr>\n",
       "      <th>3</th>\n",
       "      <td>4</td>\n",
       "      <td>Charlie</td>\n",
       "      <td>2023-01-03</td>\n",
       "    </tr>\n",
       "    <tr>\n",
       "      <th>4</th>\n",
       "      <td>5</td>\n",
       "      <td>Bob</td>\n",
       "      <td>2023-01-01</td>\n",
       "    </tr>\n",
       "  </tbody>\n",
       "</table>\n",
       "</div>"
      ],
      "text/plain": [
       "   ID     Name   Timestamp\n",
       "2   3    Alice  2023-01-02\n",
       "3   4  Charlie  2023-01-03\n",
       "4   5      Bob  2023-01-01"
      ]
     },
     "metadata": {},
     "output_type": "display_data"
    }
   ],
   "source": [
    "# 移除基於 'Name' 欄位的重複項，保留最新的一筆 (假設資料已按時間排序)\n",
    "# 為了保留最新，我們先排序再移除重複(預設keep='first')，或者直接使用 keep='last'\n",
    "df_unique_names = df_subset.drop_duplicates(subset=['Name'], keep='last')\n",
    "print(\"\\n移除基於 'Name' 重複後的 DataFrame (保留最後出現的):\")\n",
    "display(df_unique_names)\n",
    "\n",
    "\n"
   ]
  },
  {
   "cell_type": "markdown",
   "id": "5cd14278",
   "metadata": {},
   "source": [
    "## 總結\n",
    "\n",
    "在這個筆記本中，我們掌握了處理重複資料的核心技巧：\n",
    "- 使用 `.duplicated()` 來偵測重複的資料行，可以搭配 `subset` 參數來指定判斷依據。\n",
    "- 使用 `.drop_duplicates()` 來移除重複資料，可以透過 `keep` 參數控制保留哪一筆，以及 `subset` 參數指定判斷欄位。\n",
    "\n",
    "定期檢查並清理重複值，是確保資料分析與模型訓練可靠性的基本功。"
   ]
  }
 ],
 "metadata": {
  "kernelspec": {
   "display_name": "Python 3",
   "language": "python",
   "name": "python3"
  },
  "language_info": {
   "codemirror_mode": {
    "name": "ipython",
    "version": 3
   },
   "file_extension": ".py",
   "mimetype": "text/x-python",
   "name": "python",
   "nbconvert_exporter": "python",
   "pygments_lexer": "ipython3",
   "version": "3.11.9"
  }
 },
 "nbformat": 4,
 "nbformat_minor": 5
}
