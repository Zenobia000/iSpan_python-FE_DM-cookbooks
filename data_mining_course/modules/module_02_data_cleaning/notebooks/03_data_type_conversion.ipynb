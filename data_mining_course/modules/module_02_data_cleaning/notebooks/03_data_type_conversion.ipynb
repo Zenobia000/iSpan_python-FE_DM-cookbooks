{
 "cells": [
  {
   "cell_type": "markdown",
   "id": "727bd74f",
   "metadata": {},
   "source": [
    "# 模組 2.3: 資料型態轉換 (Data Type Conversion)\n",
    "\n",
    "## 學習目標\n",
    "- 理解正確的資料型態對資料分析與記憶體優化的重要性。\n",
    "- 學會使用 `.astype()` 方法來轉換欄位的資料型態。\n",
    "- 掌握 `pd.to_numeric()` 和 `pd.to_datetime()` 等專用函數處理複雜轉換。\n",
    "- 了解如何處理轉換過程中可能出現的錯誤。\n",
    "\n",
    "## 導論：為何資料型態很重要？\n",
    "\n",
    "在您的指南《駕馭未知》中，**初步資料品質掃描** 的一個關鍵步驟是檢查資料類型 (`.info()`)。這一步驟絕非形式，因為不正確的資料型態會導致多種問題：\n",
    "\n",
    "- **計算錯誤**: 將數字儲存為字串 (`object`) 會導致無法進行數學運算（如求和、求平均）。\n",
    "- **記憶體浪費**: 使用通用 `object` 型態來儲存純數字或類別資料，會佔用遠超必要的記憶體空間。\n",
    "- **模型不相容**: 大多數機器學習模型無法直接處理字串型態的類別資料或日期。\n",
    "- **分析功能受限**: 例如，如果日期被存為字串，就無法進行基於時間的篩選或特徵提取。\n",
    "\n",
    "因此，確保每個欄位都擁有最適合其內容的資料型態，是資料清理流程中的一個核心任務。"
   ]
  },
  {
   "cell_type": "code",
   "execution_count": null,
   "id": "6ffc1bea",
   "metadata": {},
   "outputs": [],
   "source": [
    "# 導入必要的函式庫\n",
    "import pandas as pd\n",
    "import numpy as np\n",
    "\n"
   ]
  },
  {
   "cell_type": "markdown",
   "id": "b34035ce",
   "metadata": {},
   "source": [
    "## 1. 創建一個資料型態混雜的範例 DataFrame"
   ]
  },
  {
   "cell_type": "code",
   "execution_count": null,
   "id": "77ab367a",
   "metadata": {},
   "outputs": [],
   "source": [
    "# 創建一個 DataFrame，其中包含需要修正的資料型態\n",
    "data = {\n",
    "    'OrderID': ['1', '2', '3', '4'],\n",
    "    'OrderDate': ['2023-01-05', '2023-01-06', '2023-01-07', '2023-01-08'],\n",
    "    'Price': ['19.99', '25.00', '15.50', '30.00'],\n",
    "    'Quantity': ['2', '1', '3', 'invalid'], # 包含一個無效值\n",
    "    'Category': ['A', 'B', 'A', 'C']\n",
    "}\n",
    "df = pd.DataFrame(data)\n",
    "print(\"原始 DataFrame 資訊:\")\n",
    "df.info()\n",
    "\n"
   ]
  },
  {
   "cell_type": "markdown",
   "id": "25e4d432",
   "metadata": {},
   "source": [
    "從 `.info()` 的結果我們看到，所有欄位都被讀取為 `object` 型態，這顯然不是最優的。\n",
    "\n",
    "## 2. 基本轉換 `.astype()`\n",
    "\n",
    "`.astype()` 是最常用、最直接的型態轉換方法。\n",
    "\n",
    "### 2.1 轉換為數值型態 (int, float)"
   ]
  },
  {
   "cell_type": "code",
   "execution_count": null,
   "id": "7dca59c6",
   "metadata": {},
   "outputs": [],
   "source": [
    "# 複製 DataFrame 以免修改原始資料\n",
    "df_cleaned = df.copy()\n",
    "\n",
    "# 將 'OrderID' 轉換為整數 (integer)\n",
    "df_cleaned['OrderID'] = df_cleaned['OrderID'].astype(int)\n",
    "\n",
    "# 將 'Price' 轉換為浮點數 (float)\n",
    "df_cleaned['Price'] = df_cleaned['Price'].astype(float)\n",
    "\n",
    "print(\"轉換 OrderID 和 Price 後的資訊:\")\n",
    "df_cleaned.info()\n",
    "\n"
   ]
  },
  {
   "cell_type": "markdown",
   "id": "9b38fb70",
   "metadata": {},
   "source": [
    "### 2.2 轉換為類別型態 (category)\n",
    "\n",
    "對於基數（唯一值數量）有限的欄位，如 `Category`，將其轉換為 Pandas 的 `category` 型態是個非常好的實踐。\n",
    "\n",
    "**優點**:\n",
    "- 大幅減少記憶體使用，因為 Pandas 只需儲存唯一的類別和每個值對應的整數代碼。\n",
    "- 某些函式庫（如 LightGBM）可以更高效地處理 `category` 型態。"
   ]
  },
  {
   "cell_type": "code",
   "execution_count": null,
   "id": "667d352b",
   "metadata": {},
   "outputs": [],
   "source": [
    "original_mem = df_cleaned['Category'].memory_usage(deep=True)\n",
    "df_cleaned['Category'] = df_cleaned['Category'].astype('category')\n",
    "categorical_mem = df_cleaned['Category'].memory_usage(deep=True)\n",
    "\n",
    "print(f\"原始 'Category' 欄位記憶體使用: {original_mem} bytes\")\n",
    "print(f\"轉換為 'category' 後記憶體使用: {categorical_mem} bytes\")\n",
    "print(\"\\n轉換 Category 後的資訊:\")\n",
    "df_cleaned.info()\n",
    "\n",
    "\n"
   ]
  },
  {
   "cell_type": "markdown",
   "id": "ae352d76",
   "metadata": {},
   "source": [
    "## 3. 處理轉換錯誤：`pd.to_numeric()`\n",
    "\n",
    "如果我們直接對含有非數值資料的 `Quantity` 欄位使用 `.astype(int)`，會發生什麼？"
   ]
  },
  {
   "cell_type": "code",
   "execution_count": null,
   "id": "e959d4de",
   "metadata": {},
   "outputs": [],
   "source": [
    "try:\n",
    "    df_cleaned['Quantity'].astype(int)\n",
    "except ValueError as e:\n",
    "    print(f\"轉換失敗，錯誤訊息: {e}\")\n",
    "\n"
   ]
  },
  {
   "cell_type": "markdown",
   "id": "dc8e71c2",
   "metadata": {},
   "source": [
    "為了處理這種情況，`pd.to_numeric()` 函數提供了更強大的 `errors` 參數。\n",
    "\n",
    "- `errors='raise'` (預設): 遇到無法轉換的值，引發錯誤。\n",
    "- `errors='coerce'`: 遇到無法轉換的值，將其強制替換為 `NaN` (Not a Number)。\n",
    "- `errors='ignore'`: 遇到無法轉換的值，保持原樣不動。"
   ]
  },
  {
   "cell_type": "code",
   "execution_count": null,
   "id": "6c8c393e",
   "metadata": {},
   "outputs": [],
   "source": [
    "# 使用 errors='coerce'\n",
    "df_cleaned['Quantity'] = pd.to_numeric(df_cleaned['Quantity'], errors='coerce')\n",
    "\n",
    "print(\"使用 to_numeric(errors='coerce') 轉換 Quantity 後:\")\n",
    "display(df_cleaned)\n",
    "df_cleaned.info()\n",
    "\n"
   ]
  },
  {
   "cell_type": "markdown",
   "id": "007eff67",
   "metadata": {},
   "source": [
    "`invalid` 被成功轉換為 `NaN`，現在我們可以對這個欄位進行數學計算或後續的缺失值處理。\n",
    "\n",
    "## 4. 處理日期與時間：`pd.to_datetime()`\n",
    "\n",
    "同樣地，`pd.to_datetime()` 是將字串轉換為標準日期時間格式的專用函數。"
   ]
  },
  {
   "cell_type": "code",
   "execution_count": null,
   "id": "14a297c1",
   "metadata": {},
   "outputs": [],
   "source": [
    "df_cleaned['OrderDate'] = pd.to_datetime(df_cleaned['OrderDate'])\n",
    "\n",
    "print(\"轉換 OrderDate 後的資訊:\")\n",
    "df_cleaned.info()\n",
    "\n"
   ]
  },
  {
   "cell_type": "markdown",
   "id": "4068bcaf",
   "metadata": {},
   "source": [
    "轉換為 `datetime64[ns]` 型態後，我們就可以輕鬆地進行各種日期相關的操作。"
   ]
  },
  {
   "cell_type": "code",
   "execution_count": null,
   "id": "76cc89b2",
   "metadata": {},
   "outputs": [],
   "source": [
    "# 提取年份\n",
    "df_cleaned['Year'] = df_cleaned['OrderDate'].dt.year\n",
    "# 提取星期幾\n",
    "df_cleaned['DayOfWeek'] = df_cleaned['OrderDate'].dt.day_name()\n",
    "\n",
    "print(\"\\n從日期中提取新特徵:\")\n",
    "display(df_cleaned)\n",
    "\n"
   ]
  },
  {
   "cell_type": "markdown",
   "id": "5adae636",
   "metadata": {},
   "source": [
    "## 總結\n",
    "\n",
    "在這個筆記本中，我們學習了資料型態轉換的核心方法：\n",
    "- 使用 `.astype()` 進行基礎的、直接的型態轉換。\n",
    "- 對於基數有限的欄位，轉換為 `category` 型態是優化記憶體的好方法。\n",
    "- 使用 `pd.to_numeric()` 搭配 `errors='coerce'` 來穩健地處理含有無效值的數值欄位。\n",
    "- 使用 `pd.to_datetime()` 來處理日期字串，並啟用強大的日期時間相關操作。\n",
    "\n",
    "正確的資料型態是資料清理的基石，也是後續特徵工程與模型建立的先決條件。"
   ]
  }
 ],
 "metadata": {},
 "nbformat": 4,
 "nbformat_minor": 5
}
