{
 "cells": [
  {
   "cell_type": "markdown",
   "id": "e6a37b0d",
   "metadata": {},
   "source": [
    "# 模組 2.4: 文字欄位清理 (Text Cleaning)\n",
    "\n",
    "## 學習目標\n",
    "- 認識到文字資料中常見的「噪音」及其對分析的影響。\n",
    "- 學會使用字串方法（`.str`）對 Pandas Series 進行向量化操作。\n",
    "- 掌握基礎的文字清理技巧：轉換大小寫、移除多餘空白、去除標點符號。\n",
    "\n",
    "## 導論：為何需要清理文字？\n",
    "\n",
    "文字資料是非結構化的，充滿了各種「噪音」，例如：\n",
    "\n",
    "- **大小寫不一致**: \"Apple\" 和 \"apple\" 在電腦看來是兩個不同的詞。\n",
    "- **多餘的空白**: \" a dog\" 或 \"a dog \" 會與 \"a dog\" 被視為不同。\n",
    "- **標點符號**: \"Hello!\" 和 \"Hello\" 可能會被當作不同的 token。\n",
    "- **特殊字元、HTML標籤** 等。\n",
    "\n",
    "這些噪音會嚴重干擾基於文字的分析，例如計算詞頻、特徵提取（如 Bag-of-Words）或情緒分析。因此，在進行自然語言處理（NLP）之前，對文字進行標準化和清理是至關重要的第一步。"
   ]
  },
  {
   "cell_type": "code",
   "execution_count": 1,
   "id": "3f7530cf",
   "metadata": {},
   "outputs": [],
   "source": [
    "# 導入必要的函式庫\n",
    "import pandas as pd\n",
    "import numpy as np\n",
    "import string # 用於獲取所有標點符號\n",
    "import re # 導入正則表達式模組\n",
    "\n"
   ]
  },
  {
   "cell_type": "markdown",
   "id": "aa4b08f4",
   "metadata": {},
   "source": [
    "## 1. 創建一個含有髒資料的範例 DataFrame"
   ]
  },
  {
   "cell_type": "code",
   "execution_count": 7,
   "id": "d8053395",
   "metadata": {},
   "outputs": [
    {
     "name": "stdout",
     "output_type": "stream",
     "text": [
      "原始 DataFrame:\n"
     ]
    },
    {
     "data": {
      "text/html": [
       "<div>\n",
       "<style scoped>\n",
       "    .dataframe tbody tr th:only-of-type {\n",
       "        vertical-align: middle;\n",
       "    }\n",
       "\n",
       "    .dataframe tbody tr th {\n",
       "        vertical-align: top;\n",
       "    }\n",
       "\n",
       "    .dataframe thead th {\n",
       "        text-align: right;\n",
       "    }\n",
       "</style>\n",
       "<table border=\"1\" class=\"dataframe\">\n",
       "  <thead>\n",
       "    <tr style=\"text-align: right;\">\n",
       "      <th></th>\n",
       "      <th>ReviewID</th>\n",
       "      <th>ReviewText</th>\n",
       "      <th>Sentiment</th>\n",
       "    </tr>\n",
       "  </thead>\n",
       "  <tbody>\n",
       "    <tr>\n",
       "      <th>0</th>\n",
       "      <td>1</td>\n",
       "      <td>This is a GREAT product! I love it.</td>\n",
       "      <td>Positive</td>\n",
       "    </tr>\n",
       "    <tr>\n",
       "      <th>1</th>\n",
       "      <td>2</td>\n",
       "      <td>terrible, would not recommend.</td>\n",
       "      <td>Negative</td>\n",
       "    </tr>\n",
       "    <tr>\n",
       "      <th>2</th>\n",
       "      <td>3</td>\n",
       "      <td>Just... OK. Not bad, not good.</td>\n",
       "      <td>Neutral</td>\n",
       "    </tr>\n",
       "    <tr>\n",
       "      <th>3</th>\n",
       "      <td>4</td>\n",
       "      <td>AWESOME!!! 10/10</td>\n",
       "      <td>Positive</td>\n",
       "    </tr>\n",
       "  </tbody>\n",
       "</table>\n",
       "</div>"
      ],
      "text/plain": [
       "   ReviewID                              ReviewText Sentiment\n",
       "0         1    This is a GREAT product! I love it.   Positive\n",
       "1         2          terrible, would not recommend.  Negative\n",
       "2         3          Just... OK. Not bad, not good.   Neutral\n",
       "3         4                        AWESOME!!! 10/10  Positive"
      ]
     },
     "metadata": {},
     "output_type": "display_data"
    }
   ],
   "source": [
    "# 創建一個包含需要清理的文字資料的 DataFrame\n",
    "data = {\n",
    "    'ReviewID': [1, 2, 3, 4],\n",
    "    'ReviewText': [\n",
    "        '  This is a GREAT product! I love it. ', \n",
    "        'terrible, would not recommend.',\n",
    "        'Just... OK. Not bad, not good.',\n",
    "        'AWESOME!!! 10/10'\n",
    "    ],\n",
    "    'Sentiment': ['Positive', 'Negative', 'Neutral', 'Positive']\n",
    "}\n",
    "df = pd.DataFrame(data)\n",
    "print(\"原始 DataFrame:\")\n",
    "display(df)\n",
    "\n"
   ]
  },
  {
   "cell_type": "markdown",
   "id": "7cc333df",
   "metadata": {},
   "source": [
    "## 2. Pandas 的字串處理方法 (`.str`)\n",
    "\n",
    "Pandas Series 提供了一個特殊的 `.str` 存取器 (accessor)，讓我們可以直接對整個 Series 中的每個字串元素套用 Python 的標準字串方法，而無需手動編寫迴圈。這非常高效。\n",
    "\n",
    "### 2.1 轉換為小寫 (`.str.lower()`)\n",
    "\n",
    "將所有文字轉換為小寫是標準化文字的第一步，以確保大小寫不同但意義相同的詞被視為一樣。"
   ]
  },
  {
   "cell_type": "code",
   "execution_count": 8,
   "id": "f0fd5021",
   "metadata": {},
   "outputs": [
    {
     "name": "stdout",
     "output_type": "stream",
     "text": [
      "轉換為小寫後:\n"
     ]
    },
    {
     "data": {
      "text/html": [
       "<div>\n",
       "<style scoped>\n",
       "    .dataframe tbody tr th:only-of-type {\n",
       "        vertical-align: middle;\n",
       "    }\n",
       "\n",
       "    .dataframe tbody tr th {\n",
       "        vertical-align: top;\n",
       "    }\n",
       "\n",
       "    .dataframe thead th {\n",
       "        text-align: right;\n",
       "    }\n",
       "</style>\n",
       "<table border=\"1\" class=\"dataframe\">\n",
       "  <thead>\n",
       "    <tr style=\"text-align: right;\">\n",
       "      <th></th>\n",
       "      <th>ReviewID</th>\n",
       "      <th>ReviewText</th>\n",
       "      <th>Sentiment</th>\n",
       "      <th>CleanedText</th>\n",
       "    </tr>\n",
       "  </thead>\n",
       "  <tbody>\n",
       "    <tr>\n",
       "      <th>0</th>\n",
       "      <td>1</td>\n",
       "      <td>This is a GREAT product! I love it.</td>\n",
       "      <td>Positive</td>\n",
       "      <td>this is a great product! i love it.</td>\n",
       "    </tr>\n",
       "    <tr>\n",
       "      <th>1</th>\n",
       "      <td>2</td>\n",
       "      <td>terrible, would not recommend.</td>\n",
       "      <td>Negative</td>\n",
       "      <td>terrible, would not recommend.</td>\n",
       "    </tr>\n",
       "    <tr>\n",
       "      <th>2</th>\n",
       "      <td>3</td>\n",
       "      <td>Just... OK. Not bad, not good.</td>\n",
       "      <td>Neutral</td>\n",
       "      <td>just... ok. not bad, not good.</td>\n",
       "    </tr>\n",
       "    <tr>\n",
       "      <th>3</th>\n",
       "      <td>4</td>\n",
       "      <td>AWESOME!!! 10/10</td>\n",
       "      <td>Positive</td>\n",
       "      <td>awesome!!! 10/10</td>\n",
       "    </tr>\n",
       "  </tbody>\n",
       "</table>\n",
       "</div>"
      ],
      "text/plain": [
       "   ReviewID                              ReviewText Sentiment  \\\n",
       "0         1    This is a GREAT product! I love it.   Positive   \n",
       "1         2          terrible, would not recommend.  Negative   \n",
       "2         3          Just... OK. Not bad, not good.   Neutral   \n",
       "3         4                        AWESOME!!! 10/10  Positive   \n",
       "\n",
       "                              CleanedText  \n",
       "0    this is a great product! i love it.   \n",
       "1          terrible, would not recommend.  \n",
       "2          just... ok. not bad, not good.  \n",
       "3                        awesome!!! 10/10  "
      ]
     },
     "metadata": {},
     "output_type": "display_data"
    }
   ],
   "source": [
    "# 複製 DataFrame\n",
    "df_cleaned = df.copy()\n",
    "\n",
    "df_cleaned['CleanedText'] = df_cleaned['ReviewText'].str.lower()\n",
    "print(\"轉換為小寫後:\")\n",
    "display(df_cleaned)\n"
   ]
  },
  {
   "cell_type": "markdown",
   "id": "da59fc2f",
   "metadata": {},
   "source": [
    "### 2.2 移除前後多餘的空白 (`.str.strip()`)\n",
    "\n",
    "`strip()` 方法可以移除字串開頭和結尾的空白字元（包括空格、tab、換行符）。"
   ]
  },
  {
   "cell_type": "code",
   "execution_count": 9,
   "id": "b704448f",
   "metadata": {},
   "outputs": [
    {
     "name": "stdout",
     "output_type": "stream",
     "text": [
      "移除前後空白後:\n"
     ]
    },
    {
     "data": {
      "text/html": [
       "<div>\n",
       "<style scoped>\n",
       "    .dataframe tbody tr th:only-of-type {\n",
       "        vertical-align: middle;\n",
       "    }\n",
       "\n",
       "    .dataframe tbody tr th {\n",
       "        vertical-align: top;\n",
       "    }\n",
       "\n",
       "    .dataframe thead th {\n",
       "        text-align: right;\n",
       "    }\n",
       "</style>\n",
       "<table border=\"1\" class=\"dataframe\">\n",
       "  <thead>\n",
       "    <tr style=\"text-align: right;\">\n",
       "      <th></th>\n",
       "      <th>ReviewID</th>\n",
       "      <th>ReviewText</th>\n",
       "      <th>Sentiment</th>\n",
       "      <th>CleanedText</th>\n",
       "    </tr>\n",
       "  </thead>\n",
       "  <tbody>\n",
       "    <tr>\n",
       "      <th>0</th>\n",
       "      <td>1</td>\n",
       "      <td>This is a GREAT product! I love it.</td>\n",
       "      <td>Positive</td>\n",
       "      <td>this is a great product! i love it.</td>\n",
       "    </tr>\n",
       "    <tr>\n",
       "      <th>1</th>\n",
       "      <td>2</td>\n",
       "      <td>terrible, would not recommend.</td>\n",
       "      <td>Negative</td>\n",
       "      <td>terrible, would not recommend.</td>\n",
       "    </tr>\n",
       "    <tr>\n",
       "      <th>2</th>\n",
       "      <td>3</td>\n",
       "      <td>Just... OK. Not bad, not good.</td>\n",
       "      <td>Neutral</td>\n",
       "      <td>just... ok. not bad, not good.</td>\n",
       "    </tr>\n",
       "    <tr>\n",
       "      <th>3</th>\n",
       "      <td>4</td>\n",
       "      <td>AWESOME!!! 10/10</td>\n",
       "      <td>Positive</td>\n",
       "      <td>awesome!!! 10/10</td>\n",
       "    </tr>\n",
       "  </tbody>\n",
       "</table>\n",
       "</div>"
      ],
      "text/plain": [
       "   ReviewID                              ReviewText Sentiment  \\\n",
       "0         1    This is a GREAT product! I love it.   Positive   \n",
       "1         2          terrible, would not recommend.  Negative   \n",
       "2         3          Just... OK. Not bad, not good.   Neutral   \n",
       "3         4                        AWESOME!!! 10/10  Positive   \n",
       "\n",
       "                           CleanedText  \n",
       "0  this is a great product! i love it.  \n",
       "1       terrible, would not recommend.  \n",
       "2       just... ok. not bad, not good.  \n",
       "3                     awesome!!! 10/10  "
      ]
     },
     "metadata": {},
     "output_type": "display_data"
    }
   ],
   "source": [
    "df_cleaned['CleanedText'] = df_cleaned['CleanedText'].str.strip()\n",
    "print(\"移除前後空白後:\")\n",
    "display(df_cleaned)\n",
    "\n",
    "\n"
   ]
  },
  {
   "cell_type": "markdown",
   "id": "653556ed",
   "metadata": {},
   "source": [
    "### 2.3 移除標點符號 (`.str.replace()`)\n",
    "\n",
    "移除標點符號通常是必要的，以避免 \"product!\" 和 \"product\" 被視為不同的詞。我們可以使用正則表達式（Regular Expressions）和 `.str.replace()` 來完成這個任務。\n",
    "\n",
    "`string.punctuation` 是一個方便的字串，包含了所有英文標點符號。"
   ]
  },
  {
   "cell_type": "code",
   "execution_count": 11,
   "id": "1862df9b",
   "metadata": {},
   "outputs": [
    {
     "name": "stdout",
     "output_type": "stream",
     "text": [
      "string.punctuation 包含的標點符號: !\"#$%&'()*+,-./:;<=>?@[\\]^_`{|}~\n",
      "\n",
      "使用的正則表達式: [!\"\\#\\$%\\&'\\(\\)\\*\\+,\\-\\./:;<=>\\?@\\[\\\\\\]\\^_`\\{\\|\\}\\~]\n",
      "\n",
      "移除標點符號後:\n"
     ]
    },
    {
     "data": {
      "text/html": [
       "<div>\n",
       "<style scoped>\n",
       "    .dataframe tbody tr th:only-of-type {\n",
       "        vertical-align: middle;\n",
       "    }\n",
       "\n",
       "    .dataframe tbody tr th {\n",
       "        vertical-align: top;\n",
       "    }\n",
       "\n",
       "    .dataframe thead th {\n",
       "        text-align: right;\n",
       "    }\n",
       "</style>\n",
       "<table border=\"1\" class=\"dataframe\">\n",
       "  <thead>\n",
       "    <tr style=\"text-align: right;\">\n",
       "      <th></th>\n",
       "      <th>ReviewID</th>\n",
       "      <th>ReviewText</th>\n",
       "      <th>Sentiment</th>\n",
       "      <th>CleanedText</th>\n",
       "    </tr>\n",
       "  </thead>\n",
       "  <tbody>\n",
       "    <tr>\n",
       "      <th>0</th>\n",
       "      <td>1</td>\n",
       "      <td>This is a GREAT product! I love it.</td>\n",
       "      <td>Positive</td>\n",
       "      <td>this is a great product i love it</td>\n",
       "    </tr>\n",
       "    <tr>\n",
       "      <th>1</th>\n",
       "      <td>2</td>\n",
       "      <td>terrible, would not recommend.</td>\n",
       "      <td>Negative</td>\n",
       "      <td>terrible would not recommend</td>\n",
       "    </tr>\n",
       "    <tr>\n",
       "      <th>2</th>\n",
       "      <td>3</td>\n",
       "      <td>Just... OK. Not bad, not good.</td>\n",
       "      <td>Neutral</td>\n",
       "      <td>just ok not bad not good</td>\n",
       "    </tr>\n",
       "    <tr>\n",
       "      <th>3</th>\n",
       "      <td>4</td>\n",
       "      <td>AWESOME!!! 10/10</td>\n",
       "      <td>Positive</td>\n",
       "      <td>awesome 1010</td>\n",
       "    </tr>\n",
       "  </tbody>\n",
       "</table>\n",
       "</div>"
      ],
      "text/plain": [
       "   ReviewID                              ReviewText Sentiment  \\\n",
       "0         1    This is a GREAT product! I love it.   Positive   \n",
       "1         2          terrible, would not recommend.  Negative   \n",
       "2         3          Just... OK. Not bad, not good.   Neutral   \n",
       "3         4                        AWESOME!!! 10/10  Positive   \n",
       "\n",
       "                         CleanedText  \n",
       "0  this is a great product i love it  \n",
       "1       terrible would not recommend  \n",
       "2           just ok not bad not good  \n",
       "3                       awesome 1010  "
      ]
     },
     "metadata": {},
     "output_type": "display_data"
    }
   ],
   "source": [
    "print(f\"string.punctuation 包含的標點符號: {string.punctuation}\")\n",
    "\n",
    "# 建立一個正則表達式，匹配任何標點符號\n",
    "# `[` 和 `]` 在正則表達式中用於定義一個字元集合\n",
    "# 我們需要對集合內部的特殊正則表達式字元進行轉義\n",
    "punct_regex = f\"[{re.escape(string.punctuation)}]\"\n",
    "print(f\"\\n使用的正則表達式: {punct_regex}\")\n",
    "\n",
    "# 使用正則表達式替換所有標點符號為空字串\n",
    "df_cleaned['CleanedText'] = df_cleaned['CleanedText'].str.replace(punct_regex, '', regex=True)\n",
    "print(\"\\n移除標點符號後:\")\n",
    "display(df_cleaned)\n"
   ]
  },
  {
   "cell_type": "markdown",
   "id": "2f0aff5b",
   "metadata": {},
   "source": [
    "## 3. 鏈式操作 (Chaining Operations)\n",
    "\n",
    "由於 `.str` 的方法都會返回一個新的 Series，我們可以將這些操作鏈接起來，使程式碼更簡潔。"
   ]
  },
  {
   "cell_type": "code",
   "execution_count": 12,
   "id": "0cb6e5a2",
   "metadata": {},
   "outputs": [
    {
     "name": "stdout",
     "output_type": "stream",
     "text": [
      "鏈式操作清理結果:\n"
     ]
    },
    {
     "data": {
      "text/html": [
       "<div>\n",
       "<style scoped>\n",
       "    .dataframe tbody tr th:only-of-type {\n",
       "        vertical-align: middle;\n",
       "    }\n",
       "\n",
       "    .dataframe tbody tr th {\n",
       "        vertical-align: top;\n",
       "    }\n",
       "\n",
       "    .dataframe thead th {\n",
       "        text-align: right;\n",
       "    }\n",
       "</style>\n",
       "<table border=\"1\" class=\"dataframe\">\n",
       "  <thead>\n",
       "    <tr style=\"text-align: right;\">\n",
       "      <th></th>\n",
       "      <th>ReviewID</th>\n",
       "      <th>ReviewText</th>\n",
       "      <th>Sentiment</th>\n",
       "      <th>CleanedText_Chained</th>\n",
       "    </tr>\n",
       "  </thead>\n",
       "  <tbody>\n",
       "    <tr>\n",
       "      <th>0</th>\n",
       "      <td>1</td>\n",
       "      <td>This is a GREAT product! I love it.</td>\n",
       "      <td>Positive</td>\n",
       "      <td>this is a great product i love it</td>\n",
       "    </tr>\n",
       "    <tr>\n",
       "      <th>1</th>\n",
       "      <td>2</td>\n",
       "      <td>terrible, would not recommend.</td>\n",
       "      <td>Negative</td>\n",
       "      <td>terrible would not recommend</td>\n",
       "    </tr>\n",
       "    <tr>\n",
       "      <th>2</th>\n",
       "      <td>3</td>\n",
       "      <td>Just... OK. Not bad, not good.</td>\n",
       "      <td>Neutral</td>\n",
       "      <td>just ok not bad not good</td>\n",
       "    </tr>\n",
       "    <tr>\n",
       "      <th>3</th>\n",
       "      <td>4</td>\n",
       "      <td>AWESOME!!! 10/10</td>\n",
       "      <td>Positive</td>\n",
       "      <td>awesome 1010</td>\n",
       "    </tr>\n",
       "  </tbody>\n",
       "</table>\n",
       "</div>"
      ],
      "text/plain": [
       "   ReviewID                              ReviewText Sentiment  \\\n",
       "0         1    This is a GREAT product! I love it.   Positive   \n",
       "1         2          terrible, would not recommend.  Negative   \n",
       "2         3          Just... OK. Not bad, not good.   Neutral   \n",
       "3         4                        AWESOME!!! 10/10  Positive   \n",
       "\n",
       "                 CleanedText_Chained  \n",
       "0  this is a great product i love it  \n",
       "1       terrible would not recommend  \n",
       "2           just ok not bad not good  \n",
       "3                       awesome 1010  "
      ]
     },
     "metadata": {},
     "output_type": "display_data"
    }
   ],
   "source": [
    "# 從原始資料開始，一次性完成所有清理步驟\n",
    "df['CleanedText_Chained'] = df['ReviewText'].str.lower().str.strip().str.replace(punct_regex, '', regex=True)\n",
    "\n",
    "print(\"鏈式操作清理結果:\")\n",
    "display(df)\n",
    "\n",
    "\n"
   ]
  },
  {
   "cell_type": "markdown",
   "id": "9ff541cc",
   "metadata": {},
   "source": [
    "## 總結\n",
    "\n",
    "在這個筆記本中，我們學習了文字資料清理的基礎三步驟：\n",
    "\n",
    "1.  **轉換為小寫**: 使用 `.str.lower()` 來統一大小寫。\n",
    "2.  **移除多餘空白**: 使用 `.str.strip()` 來清理字串頭尾的空白。\n",
    "3.  **移除標點符號**: 使用 `.str.replace()` 搭配正則表達式來刪除標點。\n",
    "\n",
    "這些基本操作是許多更進階 NLP 任務（如分詞、詞形還原、特徵提取）的前置作業。乾淨的文字資料是獲得可靠分析結果的基礎。"
   ]
  }
 ],
 "metadata": {
  "kernelspec": {
   "display_name": "Python 3",
   "language": "python",
   "name": "python3"
  },
  "language_info": {
   "codemirror_mode": {
    "name": "ipython",
    "version": 3
   },
   "file_extension": ".py",
   "mimetype": "text/x-python",
   "name": "python",
   "nbconvert_exporter": "python",
   "pygments_lexer": "ipython3",
   "version": "3.11.9"
  }
 },
 "nbformat": 4,
 "nbformat_minor": 5
}
