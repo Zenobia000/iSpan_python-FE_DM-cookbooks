{
 "cells": [
  {
   "cell_type": "markdown",
   "id": "9116d298",
   "metadata": {},
   "source": [
    "# 模組 3.3: 異常值偵測方法 (Outlier Detection)\n",
    "\n",
    "## 學習目標\n",
    "- 理解異常值的定義及其對統計分析和機器學習模型的潛在影響。\n",
    "- 學習使用視覺化方法（如箱型圖、散點圖）來直觀地識別異常值。\n",
    "- 掌握基於統計規則的異常值偵測方法，特別是 IQR 法則和 Z-score。\n",
    "- 能夠為不同特徵選擇合適的偵測技術。\n",
    "\n",
    "## 導論：什麼是異常值？\n",
    "\n",
    "在您的指南中提到：「*防止異常值扭曲統計量（如均值）、干擾模型訓練（尤其是線性模型、基於距離的演算法），或違反模型假設*」。\n",
    "\n",
    "**異常值 (Outlier)** 是指在資料集中與其他觀測值顯著不同的數據點。它們可能是由於測量或輸入錯誤造成的，也可能是真實但極端的觀測結果。無論成因如何，異常值都會對分析產生不成比例的影響，因此在建模前識別它們至關重要。本筆記本將介紹幾種最常用、最基礎的偵測方法。"
   ]
  },
  {
   "cell_type": "code",
   "execution_count": null,
   "id": "7dbf02bf",
   "metadata": {},
   "outputs": [],
   "source": [
    "# 導入必要的函式庫\n",
    "import pandas as pd\n",
    "import numpy as np\n",
    "import matplotlib.pyplot as plt\n",
    "import seaborn as sns\n",
    "\n",
    "# 設定視覺化風格\n",
    "plt.style.use('seaborn-v0_8-whitegrid')\n",
    "print(\"Libraries and styles configured.\")\n",
    "\n"
   ]
  },
  {
   "cell_type": "markdown",
   "id": "f4335106",
   "metadata": {},
   "source": [
    "## 1. 準備資料\n",
    "\n",
    "我們繼續使用 House Prices 資料集，這個資料集的 `SalePrice` 和其他特徵中都可能包含異常值。"
   ]
  },
  {
   "cell_type": "code",
   "execution_count": null,
   "id": "3f532d13",
   "metadata": {},
   "outputs": [],
   "source": [
    "# 載入資料\n",
    "path = 'data_mining_course/datasets/raw/house_prices/train.csv'\n",
    "try:\n",
    "    df = pd.read_csv(path)\n",
    "    print(\"成功載入 House Prices 資料集!\")\n",
    "except FileNotFoundError:\n",
    "    print(f\"在 '{path}' 找不到 train.csv。\")\n",
    "    df = pd.DataFrame() # 建立空 DataFrame 以免後續出錯\n",
    "\n"
   ]
  },
  {
   "cell_type": "markdown",
   "id": "74f44be5",
   "metadata": {},
   "source": [
    "## 2. 視覺化偵測\n",
    "\n",
    "我們的眼睛是強大的模式識別工具。在進行任何計算之前，先透過視覺化來觀察是個好習慣。\n",
    "\n",
    "### 2.1 箱型圖 (Box Plot)\n",
    "\n",
    "箱型圖是偵測單變數異常值的絕佳工具。它明確地將超出 `Q1 - 1.5*IQR` 或 `Q3 + 1.5*IQR` 範圍的點標示為異常值。"
   ]
  },
  {
   "cell_type": "code",
   "execution_count": null,
   "id": "9c6bf174",
   "metadata": {},
   "outputs": [],
   "source": [
    "fig, axes = plt.subplots(1, 2, figsize=(16, 6))\n",
    "\n",
    "# 查看 'SalePrice' 的異常值\n",
    "sns.boxplot(y=df['SalePrice'], ax=axes[0])\n",
    "axes[0].set_title('房價 (SalePrice) 的箱型圖')\n",
    "\n",
    "# 查看 'GrLivArea' (地上生活面積) 的異常值\n",
    "sns.boxplot(y=df['GrLivArea'], ax=axes[1])\n",
    "axes[1].set_title('地上生活面積 (GrLivArea) 的箱型圖')\n",
    "\n",
    "plt.tight_layout()\n",
    "plt.show()\n",
    "\n"
   ]
  },
  {
   "cell_type": "markdown",
   "id": "75f5dc33",
   "metadata": {},
   "source": [
    "**觀察**:\n",
    "- `SalePrice` 和 `GrLivArea` 都顯示出大量的上邊緣異常值（即數值非常大的點）。\n",
    "\n",
    "### 2.2 散點圖 (Scatter Plot)\n",
    "\n",
    "散點圖有助於發現兩個變數關係中的異常點。"
   ]
  },
  {
   "cell_type": "code",
   "execution_count": null,
   "id": "8c214f28",
   "metadata": {},
   "outputs": [],
   "source": [
    "plt.figure(figsize=(10, 6))\n",
    "sns.scatterplot(x=df['GrLivArea'], y=df['SalePrice'])\n",
    "plt.title('地上生活面積 vs. 房價')\n",
    "plt.xlabel('地上生活面積 (GrLivArea)')\n",
    "plt.ylabel('房價 (SalePrice)')\n",
    "plt.show()\n",
    "\n"
   ]
  },
  {
   "cell_type": "markdown",
   "id": "8164b12c",
   "metadata": {},
   "source": [
    "**觀察**:\n",
    "- 大部分數據點都集中在左下角，呈現出正相關趨勢。\n",
    "- 右下角有兩個非常特別的點：它們的生活面積 (`GrLivArea`) 非常大，但房價 (`SalePrice`) 卻異常地低。這種類型的異常值對線性模型（如線性迴歸）的擬合線有極大的干擾作用，強烈建議在建模前將其移除。"
   ]
  },
  {
   "cell_type": "markdown",
   "id": "01d6d110",
   "metadata": {},
   "source": [
    "## 3. 基於統計規則的偵測\n",
    "\n",
    "### 3.1 四分位距法 (IQR Rule)\n",
    "\n",
    "這是與箱型圖背後原理相同的方法。一個數據點如果小於 `Q1 - 1.5 * IQR` 或大於 `Q3 + 1.5 * IQR`，就被視為異常值。\n",
    "\n",
    "- **Q1**: 第一四分位數 (25th percentile)\n",
    "- **Q3**: 第三四分位數 (75th percentile)\n",
    "- **IQR**: 四分位距 (Interquartile Range) = Q3 - Q1"
   ]
  },
  {
   "cell_type": "code",
   "execution_count": null,
   "id": "9452e488",
   "metadata": {},
   "outputs": [],
   "source": [
    "# 以 'SalePrice' 為例，計算 IQR 邊界\n",
    "Q1 = df['SalePrice'].quantile(0.25)\n",
    "Q3 = df['SalePrice'].quantile(0.75)\n",
    "IQR = Q3 - Q1\n",
    "\n",
    "# 定義異常值邊界\n",
    "lower_bound = Q1 - 1.5 * IQR\n",
    "upper_bound = Q3 + 1.5 * IQR\n",
    "\n",
    "print(f\"房價 (SalePrice) 的 IQR 異常值邊界:\")\n",
    "print(f\"下界: {lower_bound:.2f}\")\n",
    "print(f\"上界: {upper_bound:.2f}\")\n",
    "\n"
   ]
  },
  {
   "cell_type": "code",
   "execution_count": null,
   "id": "d07d4d0c",
   "metadata": {},
   "outputs": [],
   "source": [
    "# 找出所有超出邊界的異常值\n",
    "outliers_iqr = df[(df['SalePrice'] < lower_bound) | (df['SalePrice'] > upper_bound)]\n",
    "print(f\"\\n使用 IQR 法則找到 {len(outliers_iqr)} 個異常值。\")\n",
    "display(outliers_iqr[['SalePrice', 'GrLivArea', 'OverallQual']].head())\n",
    "\n"
   ]
  },
  {
   "cell_type": "markdown",
   "id": "e3799695",
   "metadata": {},
   "source": [
    "**優點**: 對數據分佈沒有要求，對偏態數據穩健。\n",
    "**缺點**: 1.5 這個倍數是經驗法則，不一定適用於所有情況。\n",
    "\n",
    "### 3.2 Z-Score 法\n",
    "\n",
    "Z-score 衡量的是一個數據點與平均值之間相差多少個標準差。通常，我們會將 Z-score 的絕對值大於 3 的點視為異常值。\n",
    "\n",
    "**公式**: Z = (x - μ) / σ\n",
    "- **x**: 數據點\n",
    "- **μ**: 平均值\n",
    "- **σ**: 標準差\n",
    "\n",
    "**注意**: Z-score 法假設數據大致服從常態分佈。對於偏態數據，效果不佳。"
   ]
  },
  {
   "cell_type": "code",
   "execution_count": null,
   "id": "f802e83f",
   "metadata": {},
   "outputs": [],
   "source": [
    "# 以 'LotArea' (地塊面積) 為例，它可能更接近常態分佈\n",
    "# 我們先對其進行對數轉換以使其更對稱\n",
    "df['LotArea_log'] = np.log1p(df['LotArea'])\n",
    "\n",
    "# 計算 Z-score\n",
    "df['LotArea_log_zscore'] = (df['LotArea_log'] - df['LotArea_log'].mean()) / df['LotArea_log'].std()\n",
    "\n",
    "# 設定閾值為 3\n",
    "threshold = 3\n",
    "outliers_zscore = df[np.abs(df['LotArea_log_zscore']) > threshold]\n",
    "\n",
    "print(f\"使用 Z-score 法在對數轉換後的 LotArea 中找到 {len(outliers_zscore)} 個異常值。\")\n",
    "display(outliers_zscore[['LotArea', 'LotArea_log_zscore', 'SalePrice']].head())\n",
    "\n"
   ]
  },
  {
   "cell_type": "code",
   "execution_count": null,
   "id": "366c8a92",
   "metadata": {},
   "outputs": [],
   "source": [
    "# 視覺化 Z-score\n",
    "sns.histplot(df['LotArea_log_zscore'], kde=True)\n",
    "plt.axvline(threshold, color='red', linestyle='--', label=f'Threshold = {threshold}')\n",
    "plt.axvline(-threshold, color='red', linestyle='--')\n",
    "plt.title('LotArea (log transformed) Z-Scores Distribution')\n",
    "plt.legend()\n",
    "plt.show()\n",
    "\n",
    "\n"
   ]
  },
  {
   "cell_type": "markdown",
   "id": "ad40b23d",
   "metadata": {},
   "source": [
    "## 總結\n",
    "\n",
    "在這個筆記本中，我們學習了偵測異常值的幾種核心方法：\n",
    "\n",
    "| 方法 | 優點 | 缺點 | 適用場景 |\n",
    "| :--- | :--- | :--- | :--- |\n",
    "| **視覺化 (箱型圖, 散點圖)** | 直觀、易於理解，能發現多變數關係中的異常。 | 不夠精確，受主觀判斷影響。 | EDA 的初始階段，快速概覽數據。 |\n",
    "| **IQR 法則** | 對數據分佈無假設，對偏態數據穩健。 | 邊界的乘數 (1.5) 是經驗值，不通用。 | 大多數情況下的首選統計方法。 |\n",
    "| **Z-Score 法** | 基於標準差，統計意義明確。 | 假設數據服從常態分佈，對偏態數據和異常值本身敏感。 | 接近常態分佈的數據。 |\n",
    "\n",
    "**重要提醒**：偵測到異常值後，**不應輕易刪除**。應首先調查其成因：是資料輸入錯誤，還是真實的極端案例？處理異常值的方法（刪除、轉換、縮尾等）將在後續的特徵工程階段討論。偵測和理解是處理的前提。"
   ]
  }
 ],
 "metadata": {},
 "nbformat": 4,
 "nbformat_minor": 5
}
