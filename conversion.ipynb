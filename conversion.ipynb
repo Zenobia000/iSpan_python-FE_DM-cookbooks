{
 "cells": [
  {
   "cell_type": "code",
   "execution_count": 1,
   "metadata": {},
   "outputs": [
    {
     "name": "stdout",
     "output_type": "stream",
     "text": [
      "Converted 01_bag_of_words.py -> 01_bag_of_words.ipynb\n",
      "Converted 02_tfidf.py -> 02_tfidf.ipynb\n",
      "Converted 03_word_embeddings.py -> 03_word_embeddings.ipynb\n",
      "Converted 04_imdb_case.py -> 04_imdb_case.ipynb\n"
     ]
    }
   ],
   "source": [
    "import os\n",
    "import re\n",
    "import nbformat\n",
    "from nbformat.v4 import new_notebook, new_code_cell, new_markdown_cell\n",
    "\n",
    "# 指定要轉換的目錄\n",
    "source_dir = r\"D:\\python_workspace\\project_dataAnalysis\\iSpan_python-FE_DM-cookbooks\\data_mining_course\\modules\\module_09_multimodal_features\\notebooks\\01_text_features\"\n",
    "\n",
    "for filename in os.listdir(source_dir):\n",
    "    if not filename.endswith(\".py\"):\n",
    "        continue\n",
    "\n",
    "    py_path = os.path.join(source_dir, filename)\n",
    "    with open(py_path, \"r\", encoding=\"utf-8\") as f:\n",
    "        lines = f.readlines()\n",
    "\n",
    "    cells = []\n",
    "    cell_lines = []\n",
    "    cell_type = None\n",
    "\n",
    "    for raw in lines:\n",
    "        if raw.strip().startswith(\"# %%\"):\n",
    "            # Flush 前一個 cell\n",
    "            if cell_type and cell_lines:\n",
    "                if cell_type == \"markdown\":\n",
    "                    md_lines = []\n",
    "                    for l in cell_lines:\n",
    "                        # 去除每行開頭的 \"# \" 或 \"#\"，並跳過 [markdown]\n",
    "                        line = re.sub(r\"^\\s*#\\s?\", \"\", l)\n",
    "                        if \"[markdown]\" in line:\n",
    "                            continue\n",
    "                        md_lines.append(line)\n",
    "                    cells.append(new_markdown_cell(\"\".join(md_lines).rstrip()))\n",
    "                else:\n",
    "                    cells.append(new_code_cell(\"\".join(cell_lines)))\n",
    "            # 開始新 cell\n",
    "            cell_lines = []\n",
    "            cell_type = \"markdown\" if \"[markdown]\" in raw else \"code\"\n",
    "        else:\n",
    "            cell_lines.append(raw)\n",
    "\n",
    "    # Flush 最後一個 cell\n",
    "    if cell_type and cell_lines:\n",
    "        if cell_type == \"markdown\":\n",
    "            md_lines = []\n",
    "            for l in cell_lines:\n",
    "                line = re.sub(r\"^\\s*#\\s?\", \"\", l)\n",
    "                if \"[markdown]\" in line:\n",
    "                    continue\n",
    "                md_lines.append(line)\n",
    "            cells.append(new_markdown_cell(\"\".join(md_lines).rstrip()))\n",
    "        else:\n",
    "            cells.append(new_code_cell(\"\".join(cell_lines)))\n",
    "\n",
    "    # 建立並寫入 notebook\n",
    "    nb = new_notebook(cells=cells)\n",
    "    ipynb_path = os.path.join(source_dir, filename.replace(\".py\", \".ipynb\"))\n",
    "    with open(ipynb_path, \"w\", encoding=\"utf-8\") as f:\n",
    "        nbformat.write(nb, f)\n",
    "\n",
    "    print(f\"Converted {filename} -> {os.path.basename(ipynb_path)}\")\n"
   ]
  }
 ],
 "metadata": {
  "kernelspec": {
   "display_name": "Python 3",
   "language": "python",
   "name": "python3"
  },
  "language_info": {
   "codemirror_mode": {
    "name": "ipython",
    "version": 3
   },
   "file_extension": ".py",
   "mimetype": "text/x-python",
   "name": "python",
   "nbconvert_exporter": "python",
   "pygments_lexer": "ipython3",
   "version": "3.11.9"
  }
 },
 "nbformat": 4,
 "nbformat_minor": 2
}
